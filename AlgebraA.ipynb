{
 "cells": [
  {
   "cell_type": "code",
   "execution_count": 39,
   "metadata": {},
   "outputs": [],
   "source": [
    "def ExpModN( a, e, n ):\n",
    "    A = a; P = 1; E = e;\n",
    "    \n",
    "    while E != 0:\n",
    "    \n",
    "        if E % 2 == 1: \n",
    "            P = (A*P) % n\n",
    "            E = (E-1)//2\n",
    "        else:\n",
    "            E = E//2\n",
    "        A = A*A % n\n",
    "    return P\n"
   ]
  },
  {
   "cell_type": "code",
   "execution_count": 56,
   "metadata": {},
   "outputs": [],
   "source": [
    "def IsPseudoPrimeInBase( n, b ):\n",
    "    return ExpModN( b, n-1, n ) == 1\n",
    "\n",
    "def IsPseudoPrime( n ):\n",
    "    for b in range( 2, n-1 ):\n",
    "        if not IsPseudoPrimeInBase( n, b ):\n",
    "            return False\n",
    "    return True;"
   ]
  },
  {
   "cell_type": "code",
   "execution_count": 149,
   "metadata": {},
   "outputs": [
    {
     "name": "stdout",
     "output_type": "stream",
     "text": [
      "341\n",
      "561\n",
      "645\n",
      "1105\n",
      "1387\n",
      "1729\n",
      "1905\n",
      "2047\n",
      "2465\n",
      "2701\n",
      "2821\n",
      "3277\n",
      "4033\n",
      "4369\n",
      "4371\n",
      "4681\n",
      "5461\n",
      "6601\n",
      "7957\n",
      "8321\n",
      "8481\n",
      "8911\n",
      "10261\n",
      "10585\n",
      "11305\n",
      "12801\n",
      "13741\n",
      "13747\n",
      "13981\n",
      "14491\n",
      "15709\n",
      "15841\n",
      "16705\n",
      "18705\n",
      "18721\n",
      "19951\n",
      "23001\n",
      "23377\n",
      "25761\n",
      "29341\n",
      "30121\n",
      "30889\n",
      "31417\n",
      "31609\n",
      "31621\n",
      "33153\n",
      "34945\n",
      "35333\n",
      "39865\n",
      "41041\n",
      "41665\n",
      "42799\n",
      "46657\n",
      "49141\n",
      "49981\n",
      "52633\n",
      "55245\n",
      "57421\n",
      "60701\n",
      "60787\n",
      "62745\n",
      "63973\n",
      "65077\n",
      "65281\n",
      "68101\n",
      "72885\n",
      "74665\n",
      "75361\n",
      "80581\n",
      "83333\n",
      "83665\n",
      "85489\n",
      "87249\n",
      "88357\n",
      "88561\n",
      "90751\n",
      "91001\n",
      "93961\n"
     ]
    }
   ],
   "source": [
    "from sympy import isprime, factorint\n",
    "\n",
    "for a in range( 2, 100000 ):\n",
    "    if IsPseudoPrimeInBase( a, 2 ) and not isprime( a ):\n",
    "        print( a )"
   ]
  },
  {
   "cell_type": "code",
   "execution_count": 135,
   "metadata": {},
   "outputs": [
    {
     "name": "stdout",
     "output_type": "stream",
     "text": [
      "1105\n",
      "1729\n",
      "2465\n",
      "2701\n",
      "2821\n",
      "6601\n",
      "8911\n"
     ]
    }
   ],
   "source": [
    "for a in range( 2, 10000 ):\n",
    "    if not isprime( a ) and IsPseudoPrimeInBase( a, 2 ) and IsPseudoPrimeInBase( a, 3 ):\n",
    "        print( a )"
   ]
  },
  {
   "cell_type": "code",
   "execution_count": 138,
   "metadata": {},
   "outputs": [],
   "source": [
    "from sympy import log \n",
    "import random\n",
    "\n",
    "def TesteFermat( n ):\n",
    "    \n",
    "    d = int(log( n ))+1\n",
    "    for i in range( 1, d ):\n",
    "        b = random.randint( 2, n-2 )\n",
    "        if not IsPseudoPrimeInBase( n, b ):\n",
    "            return False\n",
    "    return True"
   ]
  },
  {
   "cell_type": "code",
   "execution_count": 147,
   "metadata": {},
   "outputs": [
    {
     "name": "stdout",
     "output_type": "stream",
     "text": [
      "91\n",
      "2821\n"
     ]
    }
   ],
   "source": [
    "for n in range( 4, 10000 ):\n",
    "    if not isprime( n ) and TesteFermat( n ):\n",
    "        print( n )"
   ]
  },
  {
   "cell_type": "code",
   "execution_count": 148,
   "metadata": {},
   "outputs": [
    {
     "data": {
      "text/plain": [
       "{7: 1, 13: 1, 31: 1}"
      ]
     },
     "execution_count": 148,
     "metadata": {},
     "output_type": "execute_result"
    }
   ],
   "source": [
    "factorint( 2821 )"
   ]
  }
 ],
 "metadata": {
  "kernelspec": {
   "display_name": "Python 3",
   "language": "python",
   "name": "python3"
  },
  "language_info": {
   "codemirror_mode": {
    "name": "ipython",
    "version": 3
   },
   "file_extension": ".py",
   "mimetype": "text/x-python",
   "name": "python",
   "nbconvert_exporter": "python",
   "pygments_lexer": "ipython3",
   "version": "3.6.9"
  }
 },
 "nbformat": 4,
 "nbformat_minor": 2
}
