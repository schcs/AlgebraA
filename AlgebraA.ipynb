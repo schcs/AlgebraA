{
 "cells": [
  {
   "cell_type": "code",
   "execution_count": 1,
   "metadata": {},
   "outputs": [],
   "source": [
    "from sympy import log, isprime, factorint, totient\n",
    "import random\n",
    "from math import sqrt"
   ]
  },
  {
   "cell_type": "code",
   "execution_count": 2,
   "metadata": {},
   "outputs": [],
   "source": [
    "def ExpModN( a, e, n ):\n",
    "    A = a; P = 1; E = e;\n",
    "    \n",
    "    while E != 0:\n",
    "        \n",
    "        D = E % 2 # the last binary digit of E         \n",
    "        if D == 1: \n",
    "            P = (A*P) % n\n",
    "            E = (E-1)//2\n",
    "        else:\n",
    "            E = E//2\n",
    "        A = A*A % n\n",
    "    return P\n"
   ]
  },
  {
   "cell_type": "code",
   "execution_count": 115,
   "metadata": {},
   "outputs": [],
   "source": [
    "def IsPseudoPrimeInBase( n, b ):\n",
    "    return ExpModN( b, n-1, n ) == 1\n"
   ]
  },
  {
   "cell_type": "code",
   "execution_count": 116,
   "metadata": {},
   "outputs": [],
   "source": [
    "def TesteFermat( n ):\n",
    "    \n",
    "    d = int(log( n ))+1\n",
    "    for b in range( 2, d ):\n",
    "        if not IsPseudoPrimeInBase( n, b ):\n",
    "            return \"COMPOSTO\"\n",
    "    return \"TALVEZ PRIMO\""
   ]
  },
  {
   "cell_type": "code",
   "execution_count": 117,
   "metadata": {},
   "outputs": [],
   "source": [
    "def TesteFermatRandom( n ):\n",
    "    \n",
    "    d = int(log( n ))+1\n",
    "    for i in range( 1, d ):\n",
    "        b = random.randint( 2, n-2 )\n",
    "        if not IsPseudoPrimeInBase( n, b ):\n",
    "            return \"COMPOSTO\"\n",
    "    return \"TALVEZ PRIMO\""
   ]
  },
  {
   "cell_type": "code",
   "execution_count": 118,
   "metadata": {},
   "outputs": [],
   "source": [
    "def TesteMiller( n, b ):\n",
    "    \n",
    "    q = n-1\n",
    "    k = 0\n",
    "    while q % 2 == 0:\n",
    "        q = q//2\n",
    "        k = k+1\n",
    "    \n",
    "    r = ExpModN( b, q, n )\n",
    "    if r == 1:\n",
    "        return \"TALVEZ PRIMO\"\n",
    "    \n",
    "    \n",
    "    for i in range( 0, k ):\n",
    "        if r == n-1:\n",
    "            return \"TALVEZ PRIMO\"\n",
    "        r = r*r % n\n",
    "        \n",
    "    return \"COMPOSTO\"        "
   ]
  },
  {
   "cell_type": "code",
   "execution_count": 119,
   "metadata": {},
   "outputs": [],
   "source": [
    "def TesteMillerBach( n ):\n",
    "        \n",
    "    k = min(n-1,int(2*log( n )**2))\n",
    "    for b in range( 2, k+1 ):\n",
    "        if TesteMiller( n, b ) == \"COMPOSTO\":\n",
    "            print( b )\n",
    "            return \"COMPOSTO\"\n",
    "        \n",
    "    return \"PRIMO (HGR)\""
   ]
  },
  {
   "cell_type": "code",
   "execution_count": 120,
   "metadata": {},
   "outputs": [],
   "source": [
    "def TesteMillerRabin( n ):\n",
    "        \n",
    "    k = int(log( n )) + 1\n",
    "    for i in range( 1, k+1 ):\n",
    "        b = random.randint( 2, n-2 )\n",
    "        if TesteMiller( n, b ) == \"COMPOSTO\":\n",
    "            return \"COMPOSTO\"\n",
    "        \n",
    "    return \"TALVEZ PRIMO\""
   ]
  },
  {
   "cell_type": "code",
   "execution_count": 121,
   "metadata": {},
   "outputs": [],
   "source": [
    "def TesteLucasLehmer( p ):\n",
    "    m = 2**p-1\n",
    "    s = 4\n",
    "    \n",
    "    for i in range(1,p-1):\n",
    "        s = (s*s-2) % m\n",
    "        \n",
    "    if s == 0 :\n",
    "        return \"PRIMO\"\n",
    "    else:\n",
    "        return \"COMPOSTO\""
   ]
  },
  {
   "cell_type": "code",
   "execution_count": 122,
   "metadata": {},
   "outputs": [
    {
     "data": {
      "text/plain": [
       "[641, 6700417]"
      ]
     },
     "execution_count": 122,
     "metadata": {},
     "output_type": "execute_result"
    }
   ],
   "source": [
    "n = 5\n",
    "f = 2**(2**n)+1\n",
    "k = 1\n",
    "factors = []\n",
    "while f > 1:\n",
    "    q = 1+k*2**(n+1)\n",
    "    if isprime( q ) and f % q == 0:\n",
    "        f = f//q\n",
    "        factors.append( q )\n",
    "    else:\n",
    "        k = k + 1\n",
    "        \n",
    "factors"
   ]
  },
  {
   "cell_type": "code",
   "execution_count": 54,
   "metadata": {},
   "outputs": [
    {
     "data": {
      "text/plain": [
       "[233, 1103, 2089]"
      ]
     },
     "execution_count": 54,
     "metadata": {},
     "output_type": "execute_result"
    }
   ],
   "source": [
    "n = 29\n",
    "f = 2**n-1\n",
    "k = 1\n",
    "factors = []\n",
    "while f > 1:\n",
    "    q = 1+k*2*n\n",
    "    if isprime( q ) and f % q == 0:\n",
    "        f = f//q\n",
    "        factors.append( q )\n",
    "    else:\n",
    "        k = k + 1\n",
    "        \n",
    "factors"
   ]
  },
  {
   "cell_type": "code",
   "execution_count": 3,
   "metadata": {},
   "outputs": [],
   "source": [
    "def XMDC(a,b):\n",
    "    prevx, x = 1, 0; prevy, y = 0, 1\n",
    "    while b:\n",
    "        q = a//b\n",
    "        x, prevx = prevx - q*x, x\n",
    "        y, prevy = prevy - q*y, y\n",
    "        a, b = b, a % b\n",
    "    return a, prevx, prevy"
   ]
  },
  {
   "cell_type": "code",
   "execution_count": 124,
   "metadata": {},
   "outputs": [
    {
     "data": {
      "text/plain": [
       "(7, -1, 2)"
      ]
     },
     "execution_count": 124,
     "metadata": {},
     "output_type": "execute_result"
    }
   ],
   "source": [
    "XMDC( 35, 21 )"
   ]
  },
  {
   "cell_type": "code",
   "execution_count": 125,
   "metadata": {},
   "outputs": [
    {
     "data": {
      "text/plain": [
       "7"
      ]
     },
     "execution_count": 125,
     "metadata": {},
     "output_type": "execute_result"
    }
   ],
   "source": [
    "-1*35+2*21"
   ]
  },
  {
   "cell_type": "code",
   "execution_count": 128,
   "metadata": {},
   "outputs": [
    {
     "name": "stdout",
     "output_type": "stream",
     "text": [
      "PRIMO\n",
      "PRIMO\n"
     ]
    }
   ],
   "source": [
    "print( TesteLucasLehmer( 521 )) \n",
    "print( TesteLucasLehmer( 607 )) \n",
    "p = 2**607-1; q = 2**521-1\n",
    "n = p*q\n",
    "phin = (p-1)*(q-1)\n",
    "while True:\n",
    "    e = random.randint( 2, n-2 )\n",
    "    d, f, _ = XMDC( e, phin )\n",
    "    if d == 1:\n",
    "        break        \n",
    "f = f % phin"
   ]
  },
  {
   "cell_type": "code",
   "execution_count": 139,
   "metadata": {},
   "outputs": [
    {
     "data": {
      "text/plain": [
       "3646154850295011369707131011438711095400799139943170490872585628683549034362552065955809589514611470241298944167703929337528884908857116141935206466329731087514964112054543019336536216107629523597606330154669196064144182472739556974502462402438903115845725630946428943768540714098264727068026730424033578827886916761701429264950573899186177"
      ]
     },
     "execution_count": 139,
     "metadata": {},
     "output_type": "execute_result"
    }
   ],
   "source": [
    "n"
   ]
  },
  {
   "cell_type": "code",
   "execution_count": 64,
   "metadata": {},
   "outputs": [],
   "source": [
    "def C( b, e, n ):\n",
    "    return ExpModN( b, e, n )\n",
    "\n",
    "def D( c, d, n ):\n",
    "    return ExpModN( c, d, n )"
   ]
  },
  {
   "cell_type": "code",
   "execution_count": 134,
   "metadata": {},
   "outputs": [
    {
     "data": {
      "text/plain": [
       "607613106275134149575789972046126614114110762836036823278784019215172276655811463634427536612337407574524268638053056031542609470295684552098781810030301238415153406860965175813990451006828072961172433354601767699133971303049357396624066645575068219101271622798057349274835697721658575286440761323938392124299992529608167950539716486887803"
      ]
     },
     "execution_count": 134,
     "metadata": {},
     "output_type": "execute_result"
    }
   ],
   "source": [
    "b = random.randint( 1, n-1 )\n",
    "b"
   ]
  },
  {
   "cell_type": "code",
   "execution_count": 135,
   "metadata": {},
   "outputs": [
    {
     "data": {
      "text/plain": [
       "1169426859446085422237834482061531907563277530545366310957406743903995560833442007829908376392668161909280252364367953968050429440102076515879459377379596435238296203656446699928685696304076182554328409788734678177066130401483041543159190242754332598794870350633924914778215022217564950895084718330045568694605401846636091632566668737054306"
      ]
     },
     "execution_count": 135,
     "metadata": {},
     "output_type": "execute_result"
    }
   ],
   "source": [
    "c = C( b, n )\n",
    "c"
   ]
  },
  {
   "cell_type": "code",
   "execution_count": 136,
   "metadata": {},
   "outputs": [
    {
     "data": {
      "text/plain": [
       "607613106275134149575789972046126614114110762836036823278784019215172276655811463634427536612337407574524268638053056031542609470295684552098781810030301238415153406860965175813990451006828072961172433354601767699133971303049357396624066645575068219101271622798057349274835697721658575286440761323938392124299992529608167950539716486887803"
      ]
     },
     "execution_count": 136,
     "metadata": {},
     "output_type": "execute_result"
    }
   ],
   "source": [
    "b1 = D( c, n )\n",
    "b1"
   ]
  },
  {
   "cell_type": "code",
   "execution_count": 137,
   "metadata": {},
   "outputs": [
    {
     "data": {
      "text/plain": [
       "True"
      ]
     },
     "execution_count": 137,
     "metadata": {},
     "output_type": "execute_result"
    }
   ],
   "source": [
    "b == b1"
   ]
  },
  {
   "cell_type": "code",
   "execution_count": 138,
   "metadata": {},
   "outputs": [
    {
     "data": {
      "text/plain": [
       "4"
      ]
     },
     "execution_count": 138,
     "metadata": {},
     "output_type": "execute_result"
    }
   ],
   "source": [
    "totient( 1 )"
   ]
  },
  {
   "cell_type": "code",
   "execution_count": 22,
   "metadata": {},
   "outputs": [
    {
     "data": {
      "text/plain": [
       "3793407110475217423731"
      ]
     },
     "execution_count": 22,
     "metadata": {},
     "output_type": "execute_result"
    }
   ],
   "source": [
    "p = 10000000019\n",
    "q = 1000000000039\n",
    "n = p*q\n",
    "b = random.randint( 1,n-1 )\n",
    "c = b**2 % n\n",
    "c"
   ]
  },
  {
   "cell_type": "code",
   "execution_count": 27,
   "metadata": {},
   "outputs": [
    {
     "data": {
      "text/plain": [
       "True"
      ]
     },
     "execution_count": 27,
     "metadata": {},
     "output_type": "execute_result"
    }
   ],
   "source": [
    "mp = ExpModN( c, (p+1)//4, p )\n",
    "mq = ExpModN( c, (q+1)//4, q )\n",
    "(mp**2) % p == c % p \n"
   ]
  },
  {
   "cell_type": "code",
   "execution_count": 28,
   "metadata": {},
   "outputs": [],
   "source": [
    "_, yp, yq = XMDC( p, q )"
   ]
  },
  {
   "cell_type": "code",
   "execution_count": 29,
   "metadata": {},
   "outputs": [
    {
     "data": {
      "text/plain": [
       "True"
      ]
     },
     "execution_count": 29,
     "metadata": {},
     "output_type": "execute_result"
    }
   ],
   "source": [
    "r1 = yp*p*mq+yq*q*mp % n\n",
    "r2 = yp*p*mq-yq*q*mp % n\n",
    "r1**2 % n == c\n",
    "r2**2 % n == c"
   ]
  },
  {
   "cell_type": "code",
   "execution_count": 34,
   "metadata": {},
   "outputs": [
    {
     "data": {
      "text/plain": [
       "True"
      ]
     },
     "execution_count": 34,
     "metadata": {},
     "output_type": "execute_result"
    }
   ],
   "source": [
    "(n-r2)**2 % n == c"
   ]
  },
  {
   "cell_type": "code",
   "execution_count": 21,
   "metadata": {},
   "outputs": [
    {
     "data": {
      "text/plain": [
       "3548580"
      ]
     },
     "execution_count": 21,
     "metadata": {},
     "output_type": "execute_result"
    }
   ],
   "source": [
    "totient( 3552377 )"
   ]
  },
  {
   "cell_type": "code",
   "execution_count": 8,
   "metadata": {},
   "outputs": [
    {
     "data": {
      "text/plain": [
       "(2131.0, 1667.0)"
      ]
     },
     "execution_count": 8,
     "metadata": {},
     "output_type": "execute_result"
    }
   ],
   "source": [
    "n = 3552377\n",
    "phi = 3548580\n",
    "pplusq = n-phi+1\n",
    "pminq = sqrt(pplusq**2-4*n)\n",
    "p = (pplusq+pminq)/2\n",
    "q = pplusq - p\n",
    "p, q"
   ]
  },
  {
   "cell_type": "code",
   "execution_count": 9,
   "metadata": {},
   "outputs": [
    {
     "data": {
      "text/plain": [
       "3552377.0"
      ]
     },
     "execution_count": 9,
     "metadata": {},
     "output_type": "execute_result"
    }
   ],
   "source": [
    "p*q"
   ]
  },
  {
   "cell_type": "code",
   "execution_count": 18,
   "metadata": {},
   "outputs": [
    {
     "data": {
      "text/plain": [
       "True"
      ]
     },
     "execution_count": 18,
     "metadata": {},
     "output_type": "execute_result"
    }
   ],
   "source": [
    "n = 10403\n",
    "e = 8743\n",
    "phi = totient( n )\n",
    "_, d, _ = XMDC( e, phi )\n",
    "d*e % phi == 1"
   ]
  },
  {
   "cell_type": "code",
   "execution_count": 22,
   "metadata": {},
   "outputs": [],
   "source": [
    "list = [ 4746, 8214, 9372, 9009, 4453, 8198]"
   ]
  },
  {
   "cell_type": "code",
   "execution_count": 23,
   "metadata": {},
   "outputs": [
    {
     "data": {
      "text/plain": [
       "[1514, 2722, 1029, 9931, 1831, 14]"
      ]
     },
     "execution_count": 23,
     "metadata": {},
     "output_type": "execute_result"
    }
   ],
   "source": [
    "[ ExpModN( x, d, n ) for x in list ]"
   ]
  },
  {
   "cell_type": "code",
   "execution_count": 59,
   "metadata": {},
   "outputs": [
    {
     "name": "stdout",
     "output_type": "stream",
     "text": [
      "10000000000000000000000000000990000000139000000000000000000000000013761\n"
     ]
    }
   ],
   "source": [
    "p = 1000000000000000000000000000099\n",
    "q = 10000000000000000000000000000000000000139\n",
    "n = p*q\n",
    "_, yp, yq = XMDC( p, q )\n",
    "yp = yp % n\n",
    "yq = yq % n\n",
    "yp*p+yq*q\n"
   ]
  },
  {
   "cell_type": "code",
   "execution_count": 70,
   "metadata": {},
   "outputs": [],
   "source": [
    "def DecodeRabin( c ):\n",
    "    mp = ExpModN( c, (p+1)//4, p )\n",
    "    mq = ExpModN( c, (q+1)//4, q )\n",
    "    r1 = (yp*p*mq+yq*q*mp) % n\n",
    "    r2 = (yp*p*mq-yq*q*mp) % n \n",
    "    return r1, r2, n-r1, n-r2 "
   ]
  },
  {
   "cell_type": "code",
   "execution_count": 72,
   "metadata": {},
   "outputs": [
    {
     "name": "stdout",
     "output_type": "stream",
     "text": [
      "True True True True\n"
     ]
    }
   ],
   "source": [
    "b = random.randint( 1, n-1 )\n",
    "c = b**2 % n\n",
    "r1, r2, r3, r4 = DecodeRabin( c )\n",
    "print( r1**2 % n == c, r2**2 % n == c, r3**2 % n == c, r4**2 % n == c )"
   ]
  },
  {
   "cell_type": "code",
   "execution_count": 33,
   "metadata": {},
   "outputs": [],
   "source": [
    "# computação do Bob\n",
    "pB = 5515603291713093142736262649442618555794023957659\n",
    "qB = 2088444049798106041633987184860343478597486498709\n",
    "nB = pB*qB\n",
    "phiB = (pB-1)*(qB-1)\n",
    "while True:\n",
    "    eB = random.randint( 2, nB-2 )\n",
    "    mB, dB, _ = XMDC( eB, phiB )\n",
    "    if mB == 1:\n",
    "        break        \n",
    "dB = dB % phiB"
   ]
  },
  {
   "cell_type": "code",
   "execution_count": 37,
   "metadata": {},
   "outputs": [
    {
     "data": {
      "text/plain": [
       "1"
      ]
     },
     "execution_count": 37,
     "metadata": {},
     "output_type": "execute_result"
    }
   ],
   "source": [
    "eB*dB % phiB"
   ]
  },
  {
   "cell_type": "code",
   "execution_count": 38,
   "metadata": {},
   "outputs": [],
   "source": [
    "#Computação da Alice \n",
    "pA = 1660543376616936115420314042780836596993387120411\n",
    "qA = 26926738674660569753404471116644528322286058532277\n",
    "nA = pA*qA\n",
    "phiA = (pA-1)*(qA-1)\n",
    "while True:\n",
    "    eA = random.randint( 2, nA-2 )\n",
    "    mA, dA, _ = XMDC( eA, phiA )\n",
    "    if mA == 1:\n",
    "        break        \n",
    "dA = dA % phiA"
   ]
  },
  {
   "cell_type": "code",
   "execution_count": 40,
   "metadata": {},
   "outputs": [
    {
     "data": {
      "text/plain": [
       "1"
      ]
     },
     "execution_count": 40,
     "metadata": {},
     "output_type": "execute_result"
    }
   ],
   "source": [
    "eA*dA % phiA"
   ]
  },
  {
   "cell_type": "code",
   "execution_count": 41,
   "metadata": {},
   "outputs": [],
   "source": [
    "# Codificação da mensagem da Alice\n",
    "b = random.randint( 1, min( nA-1, nB-1 ))\n",
    "c = ExpModN( b, eB, nB )\n",
    "a = ExpModN( b, dA, nA )"
   ]
  },
  {
   "cell_type": "code",
   "execution_count": 45,
   "metadata": {},
   "outputs": [
    {
     "data": {
      "text/plain": [
       "(1599983451942232544939750180706259043914824335985678436151056601247582751199880327441301097992385,\n",
       " 24558739995744607825473870388127943644364406188730070433090529964385263815289006689721483445333700)"
      ]
     },
     "execution_count": 45,
     "metadata": {},
     "output_type": "execute_result"
    }
   ],
   "source": [
    "(c,a)"
   ]
  },
  {
   "cell_type": "code",
   "execution_count": 46,
   "metadata": {},
   "outputs": [],
   "source": [
    "# Descodificação da mensagem\n",
    "bb = ExpModN( c, dB, nB )\n",
    "aa = ExpModN( a, eA, nA )"
   ]
  },
  {
   "cell_type": "code",
   "execution_count": 47,
   "metadata": {},
   "outputs": [
    {
     "data": {
      "text/plain": [
       "(2036342273139739460006169377940950490328017696222740534492039210328276572829758319462190218184186,\n",
       " 2036342273139739460006169377940950490328017696222740534492039210328276572829758319462190218184186)"
      ]
     },
     "execution_count": 47,
     "metadata": {},
     "output_type": "execute_result"
    }
   ],
   "source": [
    "(bb,aa)"
   ]
  },
  {
   "cell_type": "code",
   "execution_count": 48,
   "metadata": {},
   "outputs": [],
   "source": [
    "# Troca de chaves de Diffie-Hellman\n",
    "# computação comum\n",
    "p = 38450217703680880490141016889392805287264761398712883307976597757938978857702527567193907088613428174327748769779175270772048436148553483274190345656562325735211741290766697605370338848672044225288837\n",
    "g = random.randint( 2, p-1 )"
   ]
  },
  {
   "cell_type": "code",
   "execution_count": 49,
   "metadata": {},
   "outputs": [
    {
     "data": {
      "text/plain": [
       "24917009967169771168537442554275746009442105376986011612670670089324085120716084303052893319307592780749549549186532910563036853879905511908457985144941126357817966094785497542288117578068629587420518"
      ]
     },
     "execution_count": 49,
     "metadata": {},
     "output_type": "execute_result"
    }
   ],
   "source": [
    "g"
   ]
  },
  {
   "cell_type": "code",
   "execution_count": 50,
   "metadata": {},
   "outputs": [],
   "source": [
    "# Computação da Alice\n",
    "a = random.randint( 2, p-1 )\n",
    "x = ExpModN( g, a, p )"
   ]
  },
  {
   "cell_type": "code",
   "execution_count": 51,
   "metadata": {},
   "outputs": [
    {
     "data": {
      "text/plain": [
       "1892466123361977648877651699383792203098369223372558287725820312328646262422726365771651214473351079128022411148633300479957091172969652484642957647291135469673488257253500068160853513727800827071421"
      ]
     },
     "execution_count": 51,
     "metadata": {},
     "output_type": "execute_result"
    }
   ],
   "source": [
    "x"
   ]
  },
  {
   "cell_type": "code",
   "execution_count": 52,
   "metadata": {},
   "outputs": [],
   "source": [
    "# Computação do Bob\n",
    "b = random.randint( 2, p-1 )\n",
    "y = ExpModN( g, b, p )"
   ]
  },
  {
   "cell_type": "code",
   "execution_count": 53,
   "metadata": {},
   "outputs": [
    {
     "data": {
      "text/plain": [
       "5819286216792959495958415851639322514934315569506702112266117405690453206431700174045124487165088890752858358309340457844156047625438989596814378478326534769165849011698502920549710783297230765645334"
      ]
     },
     "execution_count": 53,
     "metadata": {},
     "output_type": "execute_result"
    }
   ],
   "source": [
    "y"
   ]
  },
  {
   "cell_type": "code",
   "execution_count": 55,
   "metadata": {},
   "outputs": [
    {
     "data": {
      "text/plain": [
       "7378343969273881721582324582920518497964205672655323608417364325522665480577690073844408432933480957279264542761867368857119405056378269740633578983763044756416307109133764430912762523245406046223794"
      ]
     },
     "execution_count": 55,
     "metadata": {},
     "output_type": "execute_result"
    }
   ],
   "source": [
    "# Computação da Alice \n",
    "ExpModN( y, a, p )"
   ]
  },
  {
   "cell_type": "code",
   "execution_count": 56,
   "metadata": {},
   "outputs": [
    {
     "data": {
      "text/plain": [
       "7378343969273881721582324582920518497964205672655323608417364325522665480577690073844408432933480957279264542761867368857119405056378269740633578983763044756416307109133764430912762523245406046223794"
      ]
     },
     "execution_count": 56,
     "metadata": {},
     "output_type": "execute_result"
    }
   ],
   "source": [
    "# Computação do Bob \n",
    "ExpModN( x, b, p )"
   ]
  },
  {
   "cell_type": "code",
   "execution_count": null,
   "metadata": {},
   "outputs": [],
   "source": []
  }
 ],
 "metadata": {
  "kernelspec": {
   "display_name": "Python 3",
   "language": "python",
   "name": "python3"
  },
  "language_info": {
   "codemirror_mode": {
    "name": "ipython",
    "version": 3
   },
   "file_extension": ".py",
   "mimetype": "text/x-python",
   "name": "python",
   "nbconvert_exporter": "python",
   "pygments_lexer": "ipython3",
   "version": "3.8.5"
  }
 },
 "nbformat": 4,
 "nbformat_minor": 2
}
