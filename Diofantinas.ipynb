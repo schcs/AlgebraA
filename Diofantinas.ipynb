{
 "cells": [
  {
   "cell_type": "code",
   "execution_count": 2,
   "metadata": {},
   "outputs": [
    {
     "data": {
      "text/plain": [
       "XMDC (generic function with 1 method)"
      ]
     },
     "execution_count": 2,
     "metadata": {},
     "output_type": "execute_result"
    }
   ],
   "source": [
    "#algoritmo extendido de Euclides\n",
    "function XMDC(a,b)\n",
    "    x0, x = 1, 0; y0, y = 0, 1\n",
    "    \n",
    "    # nós trabalhamos com números positivos, mas aceitamos argumentos negativos\n",
    "    sign_a, sign_b = 1, 1\n",
    "    if a < 0 \n",
    "        a = -a\n",
    "        sign_a = -1\n",
    "    end\n",
    "    \n",
    "    if b < 0 \n",
    "        b = -b\n",
    "        sign_b = -1\n",
    "    end\n",
    "    \n",
    "    \n",
    "    #x0*a + y0*b = a\n",
    "    #x*a + y*b = b\n",
    "    \n",
    "    while b>0 \n",
    "        q, r = a ÷ b, a%b\n",
    "        a, b = b, r\n",
    "        \n",
    "        #atualizar x, x0, y, y0\n",
    "        x, x0 = x0 - q*x, x\n",
    "        y, y0 = y0 - q*y, y\n",
    "    end \n",
    "    \n",
    "    return a, sign_a*x0, sign_b*y0\n",
    "end"
   ]
  },
  {
   "cell_type": "code",
   "execution_count": 3,
   "metadata": {},
   "outputs": [
    {
     "data": {
      "text/plain": [
       "true"
      ]
     },
     "execution_count": 3,
     "metadata": {},
     "output_type": "execute_result"
    }
   ],
   "source": [
    "d, u, v = XMDC( 67, -155 )\n",
    "d == u*67+v*(-155)"
   ]
  },
  {
   "cell_type": "markdown",
   "metadata": {},
   "source": [
    "Teorema. Considere uma equação diofantina na forma\n",
    "$$\n",
    "ax+by=c\n",
    "$$\n",
    "onde $a.b,c\\in\\mathbb Z$ e $(a,b)\\neq (0,0)$. Seja $d=\\mbox{mdc}(a,b)$.\n",
    "\n",
    "Se $d\\nmid c$ então a equação não possui solução inteira.\n",
    "Se $d\\mid c$ então a equação possui infinitas soluções. Seja $(x_0.y_0)$ uma solução particular (que pode ser obtida pelo Algoritmo de Euclides). Então a solução geral da equação está dada por\n",
    "$$\n",
    "(x,y)=\\left(x_0+k \\frac bd,y_0-k\\frac ad\\right)\\quad \\mbox{onde}\\quad k\\in\\mathbb Z.\n",
    "$$"
   ]
  },
  {
   "cell_type": "code",
   "execution_count": 4,
   "metadata": {},
   "outputs": [
    {
     "data": {
      "text/plain": [
       "solve_diofantine (generic function with 1 method)"
      ]
     },
     "execution_count": 4,
     "metadata": {},
     "output_type": "execute_result"
    }
   ],
   "source": [
    "function solve_diofantine( a, b, c )\n",
    "    \n",
    "    d, x0, y0 = XMDC( a, b )\n",
    "    \n",
    "    # verificar se a equação tem solução\n",
    "    if c % d != 0 \n",
    "        return false\n",
    "    end \n",
    "    \n",
    "    # obter uma solução particular\n",
    "    x0, y0 = x0*c÷d, y0*c÷d\n",
    "    \n",
    "    # sol(k) é a solução com parámetro k\n",
    "    sol(k) = (x0+k*b÷d, y0-k*a÷d)\n",
    "    \n",
    "    return sol\n",
    "end "
   ]
  },
  {
   "cell_type": "code",
   "execution_count": 9,
   "metadata": {},
   "outputs": [
    {
     "data": {
      "text/plain": [
       "(-423, 323)"
      ]
     },
     "execution_count": 9,
     "metadata": {},
     "output_type": "execute_result"
    }
   ],
   "source": [
    "sol = solve_diofantine( 6, 8, 46 )\n",
    "sol(-100)\n"
   ]
  },
  {
   "cell_type": "code",
   "execution_count": 10,
   "metadata": {},
   "outputs": [
    {
     "data": {
      "text/plain": [
       "46"
      ]
     },
     "execution_count": 10,
     "metadata": {},
     "output_type": "execute_result"
    }
   ],
   "source": [
    "(-423)*6+323*8"
   ]
  },
  {
   "cell_type": "code",
   "execution_count": 62,
   "metadata": {},
   "outputs": [
    {
     "data": {
      "text/plain": [
       "(3, -8, 5)"
      ]
     },
     "execution_count": 62,
     "metadata": {},
     "output_type": "execute_result"
    }
   ],
   "source": [
    "XMDC(69,111)"
   ]
  },
  {
   "cell_type": "code",
   "execution_count": 65,
   "metadata": {},
   "outputs": [
    {
     "data": {
      "text/plain": [
       "9000"
      ]
     },
     "execution_count": 65,
     "metadata": {},
     "output_type": "execute_result"
    }
   ],
   "source": [
    "-24000*69+15000*111"
   ]
  },
  {
   "cell_type": "code",
   "execution_count": 66,
   "metadata": {},
   "outputs": [
    {
     "data": {
      "text/plain": [
       "37.0"
      ]
     },
     "execution_count": 66,
     "metadata": {},
     "output_type": "execute_result"
    }
   ],
   "source": [
    "111/3"
   ]
  },
  {
   "cell_type": "code",
   "execution_count": 67,
   "metadata": {},
   "outputs": [
    {
     "data": {
      "text/plain": [
       "648.6486486486486"
      ]
     },
     "execution_count": 67,
     "metadata": {},
     "output_type": "execute_result"
    }
   ],
   "source": [
    "24000/37"
   ]
  },
  {
   "cell_type": "code",
   "execution_count": 69,
   "metadata": {},
   "outputs": [
    {
     "data": {
      "text/plain": [
       "652.1739130434783"
      ]
     },
     "execution_count": 69,
     "metadata": {},
     "output_type": "execute_result"
    }
   ],
   "source": [
    "15000/23"
   ]
  },
  {
   "cell_type": "code",
   "execution_count": 72,
   "metadata": {},
   "outputs": [
    {
     "data": {
      "text/plain": [
       "(87, 27)"
      ]
     },
     "execution_count": 72,
     "metadata": {},
     "output_type": "execute_result"
    }
   ],
   "source": [
    "sol(651)"
   ]
  },
  {
   "cell_type": "code",
   "execution_count": 75,
   "metadata": {},
   "outputs": [
    {
     "data": {
      "text/plain": [
       "7.666666666666667"
      ]
     },
     "execution_count": 75,
     "metadata": {},
     "output_type": "execute_result"
    }
   ],
   "source": [
    "23/3"
   ]
  },
  {
   "cell_type": "code",
   "execution_count": 76,
   "metadata": {},
   "outputs": [
    {
     "data": {
      "text/plain": [
       "5.75"
      ]
     },
     "execution_count": 76,
     "metadata": {},
     "output_type": "execute_result"
    }
   ],
   "source": [
    "23/4"
   ]
  },
  {
   "cell_type": "code",
   "execution_count": 79,
   "metadata": {},
   "outputs": [
    {
     "data": {
      "text/plain": [
       "5"
      ]
     },
     "execution_count": 79,
     "metadata": {},
     "output_type": "execute_result"
    }
   ],
   "source": [
    "-23+4*7"
   ]
  },
  {
   "cell_type": "code",
   "execution_count": 80,
   "metadata": {},
   "outputs": [
    {
     "data": {
      "text/plain": [
       "2"
      ]
     },
     "execution_count": 80,
     "metadata": {},
     "output_type": "execute_result"
    }
   ],
   "source": [
    "23-3*7"
   ]
  },
  {
   "cell_type": "code",
   "execution_count": 88,
   "metadata": {},
   "outputs": [
    {
     "data": {
      "text/plain": [
       ":(a + b)"
      ]
     },
     "execution_count": 88,
     "metadata": {},
     "output_type": "execute_result"
    }
   ],
   "source": [
    "ex = :(a+b)"
   ]
  },
  {
   "cell_type": "code",
   "execution_count": 90,
   "metadata": {},
   "outputs": [
    {
     "data": {
      "text/plain": [
       ":(a + b)"
      ]
     },
     "execution_count": 90,
     "metadata": {},
     "output_type": "execute_result"
    }
   ],
   "source": [
    "ex"
   ]
  },
  {
   "cell_type": "code",
   "execution_count": null,
   "metadata": {},
   "outputs": [],
   "source": []
  }
 ],
 "metadata": {
  "kernelspec": {
   "display_name": "Julia 1.4.1",
   "language": "julia",
   "name": "julia-1.4"
  },
  "language_info": {
   "file_extension": ".jl",
   "mimetype": "application/julia",
   "name": "julia",
   "version": "1.4.1"
  }
 },
 "nbformat": 4,
 "nbformat_minor": 4
}
