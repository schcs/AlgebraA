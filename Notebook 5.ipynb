{
 "cells": [
  {
   "cell_type": "code",
   "execution_count": 40,
   "metadata": {},
   "outputs": [],
   "source": [
    "from sympy import factorint, isprime"
   ]
  },
  {
   "cell_type": "code",
   "execution_count": 13,
   "metadata": {},
   "outputs": [],
   "source": [
    "# algoritmo extendido de Euclides\n",
    "def XMDC(a,b):\n",
    "\n",
    "    assert a != 0 or b != 0 \n",
    "\n",
    "    # nós trabalhamos com números positivos, mas aceitamos argumentos negativos\n",
    "    sign_a, sign_b = 1, 1\n",
    "    if a < 0: \n",
    "        a, sign_a = -a, -1\n",
    "    \n",
    "    if b < 0: \n",
    "        b, sign_b = -b, -1\n",
    "        \n",
    "    prevu, u = 1, 0; prevv, v = 0, 1 # r_{-1} = a = 1*a + 0*b, r_0 = b = 0*a + 1*b\n",
    "    \n",
    "    while b != 0:\n",
    "        q = a//b\n",
    "        u, prevu = prevu - q*u, u\n",
    "        v, prevv = prevv - q*v, v\n",
    "        a, b = b, a % b\n",
    "   \n",
    "    return a, sign_a*prevu, sign_b*prevv"
   ]
  },
  {
   "cell_type": "markdown",
   "metadata": {},
   "source": [
    "Teorema. Considere uma equação diofantina na forma\n",
    "$$\n",
    "ax+by=c\n",
    "$$\n",
    "onde $a.b,c\\in\\mathbb Z$ e $(a,b)\\neq (0,0)$. Seja $d=\\mbox{mdc}(a,b)$.\n",
    "\n",
    "Se $d\\nmid c$ então a equação não possui solução inteira.\n",
    "Se $d\\mid c$ então a equação possui infinitas soluções. Seja $(x_0.y_0)$ uma solução particular (que pode ser obtida pelo Algoritmo de Euclides). Então a solução geral da equação está dada por\n",
    "$$\n",
    "(x,y)=\\left(x_0+k \\frac bd,y_0-k\\frac ad\\right)\\quad \\mbox{onde}\\quad k\\in\\mathbb Z.\n",
    "$$"
   ]
  },
  {
   "cell_type": "code",
   "execution_count": 14,
   "metadata": {},
   "outputs": [],
   "source": [
    "def ResolvaDiofantina( a, b, c ):\n",
    "    \n",
    "    d, x0, y0 = XMDC( a, b )\n",
    "    \n",
    "    # verificar se a equação tem solução\n",
    "    if c % d != 0:\n",
    "        return false\n",
    "    \n",
    "    # obter uma solução particular\n",
    "    # temos x0*a + y0*b = d\n",
    "    x0, y0 = x0*c//d, y0*c//d\n",
    "    \n",
    "    # sol(k) é a solução com parámetro k\n",
    "    sol = lambda k : (x0+k*b//d, y0-k*a//d)\n",
    "    \n",
    "    return sol"
   ]
  },
  {
   "cell_type": "code",
   "execution_count": 19,
   "metadata": {},
   "outputs": [
    {
     "data": {
      "text/plain": [
       "[(-92, 133),\n",
       " (-83, 120),\n",
       " (-74, 107),\n",
       " (-65, 94),\n",
       " (-56, 81),\n",
       " (-47, 68),\n",
       " (-38, 55),\n",
       " (-29, 42),\n",
       " (-20, 29),\n",
       " (-11, 16),\n",
       " (-2, 3),\n",
       " (7, -10),\n",
       " (16, -23),\n",
       " (25, -36),\n",
       " (34, -49),\n",
       " (43, -62),\n",
       " (52, -75),\n",
       " (61, -88),\n",
       " (70, -101),\n",
       " (79, -114)]"
      ]
     },
     "execution_count": 19,
     "metadata": {},
     "output_type": "execute_result"
    }
   ],
   "source": [
    "sol = ResolvaDiofantina( 13,9, 1 )\n",
    "[ sol(k) for k in range(-10,10)]"
   ]
  },
  {
   "cell_type": "code",
   "execution_count": 12,
   "metadata": {},
   "outputs": [
    {
     "data": {
      "text/plain": [
       "[(-43, 62),\n",
       " (-34, 49),\n",
       " (-25, 36),\n",
       " (-16, 23),\n",
       " (-7, 10),\n",
       " (2, -3),\n",
       " (11, -16),\n",
       " (20, -29),\n",
       " (29, -42),\n",
       " (38, -55)]"
      ]
     },
     "execution_count": 12,
     "metadata": {},
     "output_type": "execute_result"
    }
   ],
   "source": [
    "[ sol(k) for k in range(-5,5)]"
   ]
  },
  {
   "cell_type": "code",
   "execution_count": null,
   "metadata": {},
   "outputs": [],
   "source": []
  }
 ],
 "metadata": {
  "kernelspec": {
   "display_name": "Python 3",
   "language": "python",
   "name": "python3"
  },
  "language_info": {
   "codemirror_mode": {
    "name": "ipython",
    "version": 3
   },
   "file_extension": ".py",
   "mimetype": "text/x-python",
   "name": "python",
   "nbconvert_exporter": "python",
   "pygments_lexer": "ipython3",
   "version": "3.8.5"
  }
 },
 "nbformat": 4,
 "nbformat_minor": 4
}
