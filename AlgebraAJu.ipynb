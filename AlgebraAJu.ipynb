{
 "cells": [
  {
   "cell_type": "code",
   "execution_count": 2,
   "metadata": {},
   "outputs": [],
   "source": [
    "using Primes"
   ]
  },
  {
   "cell_type": "code",
   "execution_count": 3,
   "metadata": {},
   "outputs": [
    {
     "data": {
      "text/plain": [
       "XMDC (generic function with 1 method)"
      ]
     },
     "execution_count": 3,
     "metadata": {},
     "output_type": "execute_result"
    }
   ],
   "source": [
    "#algoritmo extendido de Euclides\n",
    "function XMDC(a,b)\n",
    "    x0, x = 1, 0; y0, y = 0, 1\n",
    "    \n",
    "    # nós trabalhamos com números positivos, mas aceitamos argumentos negativos\n",
    "    sign_a, sign_b = 1, 1\n",
    "    if a < 0 \n",
    "        a = -a\n",
    "        sign_a = -1\n",
    "    end\n",
    "    \n",
    "    if b < 0 \n",
    "        b = -b\n",
    "        sign_b = -1\n",
    "    end\n",
    "    \n",
    "    \n",
    "    #x0*a + y0*b = a\n",
    "    #x*a + y*b = b\n",
    "    \n",
    "    while b>0 \n",
    "        q, r = a ÷ b, a%b\n",
    "        a, b = b, r\n",
    "        \n",
    "        #atualizar x, x0, y, y0\n",
    "        x, x0 = x0 - q*x, x\n",
    "        y, y0 = y0 - q*y, y\n",
    "    end \n",
    "    \n",
    "    return a, sign_a*x0, sign_b*y0\n",
    "end"
   ]
  },
  {
   "cell_type": "code",
   "execution_count": 4,
   "metadata": {},
   "outputs": [
    {
     "data": {
      "text/plain": [
       "ExpModN (generic function with 1 method)"
      ]
     },
     "execution_count": 4,
     "metadata": {},
     "output_type": "execute_result"
    }
   ],
   "source": [
    "function ExpModN( a, e, n )\n",
    "    A, P::BigInt, E = a, 1, e\n",
    "        \n",
    "    while E != 0        \n",
    "        D = E % 2 # the last binary digit of E         \n",
    "        if D == 1\n",
    "            P = (A*P) % n\n",
    "            E = (E-1)÷2\n",
    "        else\n",
    "            E = E÷2\n",
    "        end\n",
    "        A = (A*A) % n\n",
    "    end \n",
    "    return P\n",
    "end"
   ]
  },
  {
   "cell_type": "code",
   "execution_count": 5,
   "metadata": {},
   "outputs": [
    {
     "data": {
      "text/plain": [
       "IsPseudoPrimeInBase (generic function with 1 method)"
      ]
     },
     "execution_count": 5,
     "metadata": {},
     "output_type": "execute_result"
    }
   ],
   "source": [
    "function IsPseudoPrimeInBase( n, b )\n",
    "    return ExpModN( b, n-1, n ) == 1\n",
    "end"
   ]
  },
  {
   "cell_type": "code",
   "execution_count": 6,
   "metadata": {},
   "outputs": [
    {
     "data": {
      "text/plain": [
       "false"
      ]
     },
     "execution_count": 6,
     "metadata": {},
     "output_type": "execute_result"
    }
   ],
   "source": [
    "IsPseudoPrimeInBase( 95, 2 )"
   ]
  },
  {
   "cell_type": "code",
   "execution_count": 7,
   "metadata": {},
   "outputs": [
    {
     "name": "stdout",
     "output_type": "stream",
     "text": [
      "4 124 217 561 781 1541 1729 1891 2821 4123 5461 5611 5662 5731 6601 7449 7813 8029 8911 9881 "
     ]
    }
   ],
   "source": [
    "for i in (2:10000)\n",
    "    if !isprime( i ) & IsPseudoPrimeInBase( i, 5 ) \n",
    "        print( i, \" \" )\n",
    "    end\n",
    "end"
   ]
  },
  {
   "cell_type": "code",
   "execution_count": 8,
   "metadata": {},
   "outputs": [
    {
     "data": {
      "text/plain": [
       "TesteFermat (generic function with 1 method)"
      ]
     },
     "execution_count": 8,
     "metadata": {},
     "output_type": "execute_result"
    }
   ],
   "source": [
    "function TesteFermat( n )\n",
    "    \n",
    "    d = 2*floor(log( n ))+1\n",
    "    for b in (2:d)\n",
    "        if !IsPseudoPrimeInBase( n, b )\n",
    "            return \"COMPOSTO\"\n",
    "        end\n",
    "    end\n",
    "    return \"PROVAVELMENTE PRIMO\"\n",
    "end"
   ]
  },
  {
   "cell_type": "code",
   "execution_count": 9,
   "metadata": {},
   "outputs": [
    {
     "name": "stdout",
     "output_type": "stream",
     "text": [
      "252601 294409 399001 410041 488881 512461 "
     ]
    }
   ],
   "source": [
    "for i in (2:1_000_000)\n",
    "    if !isprime( i ) & (TesteFermat( i ) == \"PROVAVELMENTE PRIMO\") \n",
    "        print( i, \" \" )\n",
    "    end\n",
    "end"
   ]
  },
  {
   "cell_type": "code",
   "execution_count": 10,
   "metadata": {},
   "outputs": [
    {
     "data": {
      "text/plain": [
       "TesteMiller (generic function with 1 method)"
      ]
     },
     "execution_count": 10,
     "metadata": {},
     "output_type": "execute_result"
    }
   ],
   "source": [
    "function TesteMiller( n, b )\n",
    "    \n",
    "    q = n-1\n",
    "    k = 0\n",
    "    while q % 2 == 0\n",
    "        q = q//2\n",
    "        k = k+1\n",
    "    end\n",
    "    \n",
    "    r = ExpModN( b, q, n )\n",
    "    if r == 1\n",
    "        return \"PROVAVELMENTE PRIMO\"\n",
    "    end\n",
    "    \n",
    "    for i in (0:k-1)\n",
    "        if r == n-1\n",
    "            return \"PROVAVELMENTE PRIMO\"\n",
    "        end\n",
    "        r = r*r % n\n",
    "    end\n",
    "    \n",
    "    return \"COMPOSTO\"  \n",
    "end"
   ]
  },
  {
   "cell_type": "code",
   "execution_count": 11,
   "metadata": {},
   "outputs": [
    {
     "name": "stdout",
     "output_type": "stream",
     "text": [
      "121 286 703 1891 3281 8401 8911 10585 12403 16531 18721 19345 23521 24046 31621 44287 47197 55969 63139 74593 79003 82513 87913 88573 97567 105163 111361 112141 148417 152551 182527 188191 211411 218791 221761 226801 228073 232726 282133 288163 293401 313447 320167 327781 328021 340033 359341 364231 365713 385003 385201 399001 432821 443713 453259 478297 497503 504913 512461 551881 563347 625873 638731 655051 658711 679057 709873 801139 823213 859951 867043 876961 894781 951481 973241 994507 "
     ]
    }
   ],
   "source": [
    "for i in (2:1_000_000)\n",
    "    if !isprime( i ) & (TesteMiller( i, 3 ) == \"PROVAVELMENTE PRIMO\") \n",
    "        print( i, \" \" )\n",
    "    end\n",
    "end"
   ]
  },
  {
   "cell_type": "code",
   "execution_count": 12,
   "metadata": {},
   "outputs": [
    {
     "data": {
      "text/plain": [
       "TesteMillerBach (generic function with 1 method)"
      ]
     },
     "execution_count": 12,
     "metadata": {},
     "output_type": "execute_result"
    }
   ],
   "source": [
    "function TesteMillerBach( n )\n",
    "        \n",
    "    k = min(n-1,floor(2*log( n )^2))\n",
    "    for b in (2:k)\n",
    "        if TesteMiller( n, b ) == \"COMPOSTO\"\n",
    "            return \"COMPOSTO\"\n",
    "        end\n",
    "    end\n",
    "        \n",
    "    return \"PRIMO (HGR)\" #Hipótese generalizada de Riemann\n",
    "end"
   ]
  },
  {
   "cell_type": "code",
   "execution_count": 13,
   "metadata": {},
   "outputs": [],
   "source": [
    "for i in (2:100_000)\n",
    "    if !isprime( i ) & (TesteMillerBach( i ) == \"PRIMO (HGR)\") \n",
    "        print( i, \" \" )\n",
    "    end\n",
    "end"
   ]
  },
  {
   "cell_type": "code",
   "execution_count": 15,
   "metadata": {},
   "outputs": [
    {
     "data": {
      "text/plain": [
       "TesteMillerRabin (generic function with 1 method)"
      ]
     },
     "execution_count": 15,
     "metadata": {},
     "output_type": "execute_result"
    }
   ],
   "source": [
    "function TesteMillerRabin( n )\n",
    "        \n",
    "    k = floor(log( n )) + 1\n",
    "    for i in (1:k)\n",
    "        b = rand( 2:n-2 )\n",
    "        if TesteMiller( n, b ) == \"COMPOSTO\"\n",
    "            return \"COMPOSTO\"\n",
    "        end\n",
    "    end\n",
    "    \n",
    "    return \"PROVAVELMENTE PRIMO\"\n",
    "end"
   ]
  },
  {
   "cell_type": "code",
   "execution_count": 16,
   "metadata": {},
   "outputs": [
    {
     "ename": "InterruptException",
     "evalue": "InterruptException:",
     "output_type": "error",
     "traceback": [
      "InterruptException:",
      "",
      "Stacktrace:",
      " [1] init2! at ./gmp.jl:140 [inlined]",
      " [2] BigInt at ./gmp.jl:56 [inlined]",
      " [3] BigInt at ./gmp.jl:56 [inlined]",
      " [4] set_si(::Int64) at ./gmp.jl:199",
      " [5] BigInt at ./gmp.jl:288 [inlined]",
      " [6] convert at ./number.jl:7 [inlined]",
      " [7] _promote at ./promotion.jl:259 [inlined]",
      " [8] promote at ./promotion.jl:282 [inlined]",
      " [9] rem at ./promotion.jl:352 [inlined]",
      " [10] ExpModN(::Int64, ::Int64, ::Int64) at ./In[4]:7",
      " [11] TesteMiller(::Int64, ::Int64) at ./In[10]:10",
      " [12] TesteMillerRabin(::Int64) at ./In[15]:6",
      " [13] top-level scope at ./In[16]:2"
     ]
    }
   ],
   "source": [
    "for i in (5:10_000_000)\n",
    "    if !isprime( i ) & (TesteMillerRabin( i ) == \"PROVAVELMENTE PRIMO\") \n",
    "        print( i, \" \" )\n",
    "    end\n",
    "end"
   ]
  },
  {
   "cell_type": "code",
   "execution_count": 17,
   "metadata": {},
   "outputs": [
    {
     "name": "stdout",
     "output_type": "stream",
     "text": [
      "  0.268906 seconds (712.63 k allocations: 34.075 MiB, 4.82% gc time)\n",
      "  0.043811 seconds (1 allocation: 35.516 KiB)\n"
     ]
    },
    {
     "data": {
      "text/plain": [
       "false"
      ]
     },
     "execution_count": 17,
     "metadata": {},
     "output_type": "execute_result"
    }
   ],
   "source": [
    "p = BigInt(2)^2203-1 #primo de Mersenne\n",
    "q = BigInt(2)^2281-1 #outro primo de Mersenne\n",
    "n = p*q\n",
    "@time TesteMillerBach( n )\n",
    "@time isprime( n )\n",
    "#@time factor( n )"
   ]
  },
  {
   "cell_type": "code",
   "execution_count": 19,
   "metadata": {},
   "outputs": [
    {
     "data": {
      "text/plain": [
       "TesteLucasLehmer (generic function with 1 method)"
      ]
     },
     "execution_count": 19,
     "metadata": {},
     "output_type": "execute_result"
    }
   ],
   "source": [
    "function TesteLucasLehmer( p )\n",
    "    m = BigInt( 2 )^p-1\n",
    "    s = 4\n",
    "    \n",
    "    for i in (1:p-2) \n",
    "        s = (s*s-2) % m\n",
    "    end\n",
    "        \n",
    "    if s == 0 \n",
    "        return \"PRIMO\"\n",
    "    else\n",
    "        return \"COMPOSTO\"\n",
    "    end\n",
    "end"
   ]
  },
  {
   "cell_type": "code",
   "execution_count": 20,
   "metadata": {},
   "outputs": [
    {
     "data": {
      "text/plain": [
       "\"PRIMO\""
      ]
     },
     "execution_count": 20,
     "metadata": {},
     "output_type": "execute_result"
    }
   ],
   "source": [
    "TesteLucasLehmer( 13  )"
   ]
  },
  {
   "cell_type": "code",
   "execution_count": 43,
   "metadata": {},
   "outputs": [
    {
     "data": {
      "text/plain": [
       "F (generic function with 1 method)"
      ]
     },
     "execution_count": 43,
     "metadata": {},
     "output_type": "execute_result"
    }
   ],
   "source": [
    "F(k) = BigInt(2)^(2^k)+1"
   ]
  },
  {
   "cell_type": "code",
   "execution_count": 44,
   "metadata": {},
   "outputs": [
    {
     "data": {
      "text/plain": [
       "4294967297"
      ]
     },
     "execution_count": 44,
     "metadata": {},
     "output_type": "execute_result"
    }
   ],
   "source": [
    "F(5)"
   ]
  },
  {
   "cell_type": "code",
   "execution_count": 46,
   "metadata": {},
   "outputs": [
    {
     "data": {
      "text/plain": [
       "0"
      ]
     },
     "execution_count": 46,
     "metadata": {},
     "output_type": "execute_result"
    }
   ],
   "source": [
    "m = 1\n",
    "F(5) % (1+10*64)"
   ]
  },
  {
   "cell_type": "code",
   "execution_count": 26,
   "metadata": {},
   "outputs": [
    {
     "name": "stdout",
     "output_type": "stream",
     "text": [
      "PRIMO\n",
      "PRIMO\n"
     ]
    }
   ],
   "source": [
    "# Criptografia RSA\n",
    "# Computação de Bob\n",
    "println( TesteLucasLehmer( 521 )) \n",
    "println( TesteLucasLehmer( 607 )) \n",
    "p = BigInt(2)^607-1; q = BigInt(2)^521-1\n",
    "n = p*q\n",
    "phin = (p-1)*(q-1)\n",
    "global d = 0\n",
    "while true \n",
    "    global e = rand( 2:(n-2) )\n",
    "    mdc, d, _ = XMDC( e, phin ); \n",
    "    if mdc == 1\n",
    "        break     \n",
    "    end\n",
    "end\n",
    "\n",
    "d = d % phin\n",
    "if d < 0\n",
    "    d = d+phin\n",
    "end"
   ]
  },
  {
   "cell_type": "code",
   "execution_count": 27,
   "metadata": {},
   "outputs": [
    {
     "data": {
      "text/plain": [
       "D (generic function with 1 method)"
      ]
     },
     "execution_count": 27,
     "metadata": {},
     "output_type": "execute_result"
    }
   ],
   "source": [
    "# funções de codificação e descodificação \n",
    "C( b ) = ExpModN( b, e, n ) #b^e mod n\n",
    "D( c ) = ExpModN( c, d, n ) #c^d mod n"
   ]
  },
  {
   "cell_type": "code",
   "execution_count": 28,
   "metadata": {},
   "outputs": [
    {
     "data": {
      "text/plain": [
       "3417549090337600387756113151291309206000926679470301767667827882932285757602021731471918572390672273280977506537321801016497456501876912862389522831408164277164410779601240628783561212234923744498394454726476648845336623695625281887860306651626299328017128342718098050183095279667389721526960932517622564849299793273875577943999856437676742"
      ]
     },
     "execution_count": 28,
     "metadata": {},
     "output_type": "execute_result"
    }
   ],
   "source": [
    "# mensagem descodificada da Alice\n",
    "b = rand( 2:n-1 )\n",
    "b"
   ]
  },
  {
   "cell_type": "code",
   "execution_count": 29,
   "metadata": {},
   "outputs": [
    {
     "data": {
      "text/plain": [
       "2729865247358777562052585688184714760591306946316759504199982523403312501944794971106222004258911061033994254415270391896958772277393569623121502212498304531504224383722501122832114727200523203574340729666450973810644639710525780092205612850856138018340431442693221864426353963864865267668598047474802981510534856393065201692317151128793806"
      ]
     },
     "execution_count": 29,
     "metadata": {},
     "output_type": "execute_result"
    }
   ],
   "source": [
    "# mensagem criprografada da Alice\n",
    "c = C( b )"
   ]
  },
  {
   "cell_type": "code",
   "execution_count": 30,
   "metadata": {},
   "outputs": [
    {
     "data": {
      "text/plain": [
       "true"
      ]
     },
     "execution_count": 30,
     "metadata": {},
     "output_type": "execute_result"
    }
   ],
   "source": [
    "# Bob aplica a função D na mensagem recebida \n",
    "b1 = D( c )\n",
    "# Bob obtem a mensagem original da Alice\n",
    "b1 == b\n"
   ]
  },
  {
   "cell_type": "code",
   "execution_count": 31,
   "metadata": {},
   "outputs": [
    {
     "data": {
      "text/plain": [
       "D (generic function with 1 method)"
      ]
     },
     "execution_count": 31,
     "metadata": {},
     "output_type": "execute_result"
    }
   ],
   "source": [
    "n = 10403\n",
    "e = 8743\n",
    "p, q = factor( n )\n",
    "phin = (p[1]-1)*(q[1]-1)\n",
    "phin\n",
    "_, d = XMDC( e, phin )\n",
    "@assert d*e % phin == 1\n",
    "C( b ) = ExpModN( b, e, n )\n",
    "D( c ) = ExpModN( c, d, n )"
   ]
  },
  {
   "cell_type": "code",
   "execution_count": 32,
   "metadata": {},
   "outputs": [
    {
     "data": {
      "text/plain": [
       "6-element Array{BigInt,1}:\n",
       " 1514\n",
       " 2722\n",
       " 1029\n",
       " 9931\n",
       " 1831\n",
       "   14"
      ]
     },
     "execution_count": 32,
     "metadata": {},
     "output_type": "execute_result"
    }
   ],
   "source": [
    "msg = [ 4746, 8214, 9372, 9009, 4453, 8198 ]\n",
    "[ D(x) for x in msg ]\n"
   ]
  },
  {
   "cell_type": "code",
   "execution_count": 33,
   "metadata": {},
   "outputs": [
    {
     "data": {
      "text/plain": [
       "1"
      ]
     },
     "execution_count": 33,
     "metadata": {},
     "output_type": "execute_result"
    }
   ],
   "source": [
    "# Criptografia de Rabin\n",
    "p = BigInt(1000000000000000000000000000099)\n",
    "q = BigInt(10000000000000000000000000000000000000139)\n",
    "@assert p % 4 == 3 || q % 4 == 3 \n",
    "n = p*q\n",
    "_, yp, yq = XMDC( p, q )\n",
    "\n",
    "yp = yp % n\n",
    "\n",
    "yq = yq % n\n",
    "\n",
    "yp*p+yq*q"
   ]
  },
  {
   "cell_type": "code",
   "execution_count": 34,
   "metadata": {},
   "outputs": [
    {
     "data": {
      "text/plain": [
       "DecodeRabin (generic function with 1 method)"
      ]
     },
     "execution_count": 34,
     "metadata": {},
     "output_type": "execute_result"
    }
   ],
   "source": [
    "function DecodeRabin( c )\n",
    "    mp = ExpModN( c, (p+1)//4, p )\n",
    "    mq = ExpModN( c, (q+1)//4, q )\n",
    "    r1 = (yp*p*mq+yq*q*mp) % n\n",
    "    r2 = (yp*p*mq-yq*q*mp) % n \n",
    "    return r1, r2, n-r1, n-r2 \n",
    "end"
   ]
  },
  {
   "cell_type": "code",
   "execution_count": 35,
   "metadata": {},
   "outputs": [],
   "source": [
    "b = rand( 1:(n-1) )\n",
    "c = b^2 % n\n",
    "r1, r2, r3, r4 = DecodeRabin( c )\n",
    "@assert r1^2 % n == c && r2^2 % n == c && r3^2 % n == c && r4^2 % n == c "
   ]
  },
  {
   "cell_type": "code",
   "execution_count": 37,
   "metadata": {},
   "outputs": [
    {
     "data": {
      "text/plain": [
       "8203252554977833726365289042709512876622462056521923575291723112672132096050255389732507362955199304718403179555476310744203961211981777588908552564900852306436941827091301356988182460220791046642883"
      ]
     },
     "execution_count": 37,
     "metadata": {},
     "output_type": "execute_result"
    }
   ],
   "source": [
    "# Troca de chaves de Diffie-Hellman\n",
    "# computação comum\n",
    "p = 38450217703680880490141016889392805287264761398712883307976597757938978857702527567193907088613428174327748769779175270772048436148553483274190345656562325735211741290766697605370338848672044225288837\n",
    "g = rand( 2:(p-1) )"
   ]
  },
  {
   "cell_type": "code",
   "execution_count": 39,
   "metadata": {},
   "outputs": [
    {
     "data": {
      "text/plain": [
       "11270892406909116453123306940282663248979916799618915758300148436983286344978867653576268250716010306623240344038963283362203320699963953316882655777481533442447175695398616201673004844609506408714449"
      ]
     },
     "execution_count": 39,
     "metadata": {},
     "output_type": "execute_result"
    }
   ],
   "source": [
    "# Computação da Alice\n",
    "a = rand( 2:(p-1) )\n",
    "x = ExpModN( g, a, p )"
   ]
  },
  {
   "cell_type": "code",
   "execution_count": 40,
   "metadata": {},
   "outputs": [
    {
     "data": {
      "text/plain": [
       "30064825016404229398693762926641210950612536627328901206685508085708634960858206245740409970114353674987128785789236663246404688503882613456400793424338940002112266653604324456630960915061238061883635"
      ]
     },
     "execution_count": 40,
     "metadata": {},
     "output_type": "execute_result"
    }
   ],
   "source": [
    "# Computação do Bob\n",
    "b = rand( 2:(p-1) )\n",
    "y = ExpModN( g, b, p )"
   ]
  },
  {
   "cell_type": "code",
   "execution_count": 41,
   "metadata": {},
   "outputs": [
    {
     "data": {
      "text/plain": [
       "28956597302366977293341463675669405833855148616441090355203848227845352592913535448185194346159941182384536678839808085908436855740062416072151199702171990208854956824492301555447262250355559582314754"
      ]
     },
     "execution_count": 41,
     "metadata": {},
     "output_type": "execute_result"
    }
   ],
   "source": [
    "# Computação da Alice \n",
    "ExpModN( y, a, p )"
   ]
  },
  {
   "cell_type": "code",
   "execution_count": 42,
   "metadata": {},
   "outputs": [
    {
     "data": {
      "text/plain": [
       "28956597302366977293341463675669405833855148616441090355203848227845352592913535448185194346159941182384536678839808085908436855740062416072151199702171990208854956824492301555447262250355559582314754"
      ]
     },
     "execution_count": 42,
     "metadata": {},
     "output_type": "execute_result"
    }
   ],
   "source": [
    "# Computação do Bob \n",
    "ExpModN( x, b, p )"
   ]
  },
  {
   "cell_type": "code",
   "execution_count": null,
   "metadata": {},
   "outputs": [],
   "source": []
  }
 ],
 "metadata": {
  "kernelspec": {
   "display_name": "Julia 1.4.1",
   "language": "julia",
   "name": "julia-1.4"
  },
  "language_info": {
   "file_extension": ".jl",
   "mimetype": "application/julia",
   "name": "julia",
   "version": "1.4.1"
  }
 },
 "nbformat": 4,
 "nbformat_minor": 4
}
