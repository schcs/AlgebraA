{
 "cells": [
  {
   "cell_type": "code",
   "execution_count": 19,
   "metadata": {},
   "outputs": [],
   "source": [
    "using Primes"
   ]
  },
  {
   "cell_type": "code",
   "execution_count": 28,
   "metadata": {},
   "outputs": [
    {
     "data": {
      "text/plain": [
       "XMDC (generic function with 1 method)"
      ]
     },
     "execution_count": 28,
     "metadata": {},
     "output_type": "execute_result"
    }
   ],
   "source": [
    "#algoritmo extendido de Euclides\n",
    "function XMDC(a,b)\n",
    "    x0, x = 1, 0; y0, y = 0, 1\n",
    "    \n",
    "    # nós trabalhamos com números positivos, mas aceitamos argumentos negativos\n",
    "    sign_a, sign_b = 1, 1\n",
    "    if a < 0 \n",
    "        a = -a\n",
    "        sign_a = -1\n",
    "    end\n",
    "    \n",
    "    if b < 0 \n",
    "        b = -b\n",
    "        sign_b = -1\n",
    "    end\n",
    "    \n",
    "    \n",
    "    #x0*a + y0*b = a\n",
    "    #x*a + y*b = b\n",
    "    \n",
    "    while b>0 \n",
    "        q, r = a ÷ b, a%b\n",
    "        a, b = b, r\n",
    "        \n",
    "        #atualizar x, x0, y, y0\n",
    "        x, x0 = x0 - q*x, x\n",
    "        y, y0 = y0 - q*y, y\n",
    "    end \n",
    "    \n",
    "    return a, sign_a*x0, sign_b*y0\n",
    "end"
   ]
  },
  {
   "cell_type": "code",
   "execution_count": 29,
   "metadata": {},
   "outputs": [
    {
     "data": {
      "text/plain": [
       "ExpModN (generic function with 1 method)"
      ]
     },
     "execution_count": 29,
     "metadata": {},
     "output_type": "execute_result"
    }
   ],
   "source": [
    "function ExpModN( a, e, n )\n",
    "    A, P, E = a, 1, e\n",
    "    \n",
    "    while E != 0        \n",
    "        D = E % 2 # the last binary digit of E         \n",
    "        if D == 1\n",
    "            P = (A*P) % n\n",
    "            E = (E-1)÷2\n",
    "        else\n",
    "            E = E÷2\n",
    "        end\n",
    "        A = (A*A) % n\n",
    "    end \n",
    "    return P\n",
    "end"
   ]
  },
  {
   "cell_type": "code",
   "execution_count": 30,
   "metadata": {},
   "outputs": [
    {
     "data": {
      "text/plain": [
       "IsPseudoPrimeInBase (generic function with 1 method)"
      ]
     },
     "execution_count": 30,
     "metadata": {},
     "output_type": "execute_result"
    }
   ],
   "source": [
    "function IsPseudoPrimeInBase( n, b )\n",
    "    return ExpModN( b, n-1, n ) == 1\n",
    "end"
   ]
  },
  {
   "cell_type": "code",
   "execution_count": 31,
   "metadata": {},
   "outputs": [
    {
     "name": "stdout",
     "output_type": "stream",
     "text": [
      "4 124 217 561 781 "
     ]
    }
   ],
   "source": [
    "for i in (2:1000)\n",
    "    if !isprime( i ) & IsPseudoPrimeInBase( i, 5 ) \n",
    "        print( i, \" \" )\n",
    "    end\n",
    "end"
   ]
  },
  {
   "cell_type": "code",
   "execution_count": 32,
   "metadata": {},
   "outputs": [
    {
     "data": {
      "text/plain": [
       "TesteFermat (generic function with 1 method)"
      ]
     },
     "execution_count": 32,
     "metadata": {},
     "output_type": "execute_result"
    }
   ],
   "source": [
    "function TesteFermat( n )\n",
    "    \n",
    "    d = floor(log( n ))+1\n",
    "    for b in (2:d)\n",
    "        if !IsPseudoPrimeInBase( n, b )\n",
    "            return \"COMPOSTO\"\n",
    "        end\n",
    "    end\n",
    "    return \"TALVEZ PRIMO\"\n",
    "end"
   ]
  },
  {
   "cell_type": "code",
   "execution_count": 33,
   "metadata": {},
   "outputs": [
    {
     "name": "stdout",
     "output_type": "stream",
     "text": [
      "29341 46657 115921 162401 252601 294409 334153 399001 410041 488881 512461 "
     ]
    }
   ],
   "source": [
    "for i in (2:1_000_000)\n",
    "    if !isprime( i ) & (TesteFermat( i ) == \"TALVEZ PRIMO\") \n",
    "        print( i, \" \" )\n",
    "    end\n",
    "end"
   ]
  },
  {
   "cell_type": "code",
   "execution_count": 34,
   "metadata": {},
   "outputs": [
    {
     "data": {
      "text/plain": [
       "TesteMiller (generic function with 1 method)"
      ]
     },
     "execution_count": 34,
     "metadata": {},
     "output_type": "execute_result"
    }
   ],
   "source": [
    "function TesteMiller( n, b )\n",
    "    \n",
    "    q = n-1\n",
    "    k = 0\n",
    "    while q % 2 == 0\n",
    "        q = q//2\n",
    "        k = k+1\n",
    "    end\n",
    "    \n",
    "    r = ExpModN( b, q, n )\n",
    "    if r == 1\n",
    "        return \"TALVEZ PRIMO\"\n",
    "    end\n",
    "    \n",
    "    for i in (0:k-1)\n",
    "        if r == n-1\n",
    "            return \"TALVEZ PRIMO\"\n",
    "        end\n",
    "        r = r*r % n\n",
    "    end\n",
    "    \n",
    "    return \"COMPOSTO\"  \n",
    "end"
   ]
  },
  {
   "cell_type": "code",
   "execution_count": 35,
   "metadata": {},
   "outputs": [
    {
     "name": "stdout",
     "output_type": "stream",
     "text": [
      "2047 3277 4033 4681 8321 15841 29341 42799 49141 52633 65281 74665 80581 85489 88357 90751 104653 130561 196093 220729 233017 252601 253241 256999 271951 280601 314821 357761 390937 458989 476971 486737 489997 514447 580337 635401 647089 741751 800605 818201 838861 873181 877099 916327 976873 983401 "
     ]
    }
   ],
   "source": [
    "for i in (2:1_000_000)\n",
    "    if !isprime( i ) & (TesteMiller( i, 2 ) == \"TALVEZ PRIMO\") \n",
    "        print( i, \" \" )\n",
    "    end\n",
    "end"
   ]
  },
  {
   "cell_type": "code",
   "execution_count": 36,
   "metadata": {},
   "outputs": [
    {
     "data": {
      "text/plain": [
       "TesteMillerBach (generic function with 1 method)"
      ]
     },
     "execution_count": 36,
     "metadata": {},
     "output_type": "execute_result"
    }
   ],
   "source": [
    "function TesteMillerBach( n )\n",
    "        \n",
    "    k = min(n-1,floor(2*log( n )^2))\n",
    "    for b in (2:k)\n",
    "        if TesteMiller( n, b ) == \"COMPOSTO\"\n",
    "            return \"COMPOSTO\"\n",
    "        end\n",
    "    end\n",
    "        \n",
    "    return \"PRIMO (HGR)\"\n",
    "end"
   ]
  },
  {
   "cell_type": "code",
   "execution_count": 37,
   "metadata": {},
   "outputs": [],
   "source": [
    "for i in (2:1_000_000)\n",
    "    if !isprime( i ) & (TesteMillerBach( i ) == \"TALVEZ PRIMO\") \n",
    "        print( i, \" \" )\n",
    "    end\n",
    "end"
   ]
  },
  {
   "cell_type": "code",
   "execution_count": 38,
   "metadata": {},
   "outputs": [
    {
     "data": {
      "text/plain": [
       "TesteMillerRabin (generic function with 1 method)"
      ]
     },
     "execution_count": 38,
     "metadata": {},
     "output_type": "execute_result"
    }
   ],
   "source": [
    "function TesteMillerRabin( n )\n",
    "        \n",
    "    k = floor(log( n )) + 1\n",
    "    for i in (1:k)\n",
    "        b = rand( 2:n-2 )\n",
    "        if TesteMiller( n, b ) == \"COMPOSTO\"\n",
    "            return \"COMPOSTO\"\n",
    "        end\n",
    "    end\n",
    "    \n",
    "    return \"TALVEZ PRIMO\"\n",
    "end"
   ]
  },
  {
   "cell_type": "code",
   "execution_count": 39,
   "metadata": {},
   "outputs": [],
   "source": [
    "for i in (5:1_000_000)\n",
    "    if !isprime( i ) & (TesteMillerRabin( i ) == \"TALVEZ PRIMO\") \n",
    "        print( i, \" \" )\n",
    "    end\n",
    "end"
   ]
  },
  {
   "cell_type": "code",
   "execution_count": 66,
   "metadata": {},
   "outputs": [
    {
     "name": "stdout",
     "output_type": "stream",
     "text": [
      "  0.012077 seconds (200.23 k allocations: 9.430 MiB)\n",
      "  0.043215 seconds (1 allocation: 35.516 KiB)\n"
     ]
    },
    {
     "data": {
      "text/plain": [
       "false"
      ]
     },
     "execution_count": 66,
     "metadata": {},
     "output_type": "execute_result"
    }
   ],
   "source": [
    "p = BigInt(2)^2203-1\n",
    "q = BigInt(2)^2281-1\n",
    "n = p*q\n",
    "@time TesteMillerBach( n )\n",
    "@time isprime( n )\n",
    "#@time factor( n )"
   ]
  },
  {
   "cell_type": "code",
   "execution_count": 64,
   "metadata": {},
   "outputs": [
    {
     "data": {
      "text/plain": [
       "TesteLucasLehmer (generic function with 1 method)"
      ]
     },
     "execution_count": 64,
     "metadata": {},
     "output_type": "execute_result"
    }
   ],
   "source": [
    "function TesteLucasLehmer( p )\n",
    "    m = 2^p-1\n",
    "    s = 4\n",
    "    \n",
    "    for i in (1:p-2) \n",
    "        s = (s*s-2) % m\n",
    "    end\n",
    "        \n",
    "    if s == 0 \n",
    "        return \"PRIMO\"\n",
    "    else\n",
    "        return \"COMPOSTO\"\n",
    "    end\n",
    "end"
   ]
  },
  {
   "cell_type": "code",
   "execution_count": 98,
   "metadata": {},
   "outputs": [
    {
     "data": {
      "text/plain": [
       "\"PRIMO\""
      ]
     },
     "execution_count": 98,
     "metadata": {},
     "output_type": "execute_result"
    }
   ],
   "source": [
    "TesteLucasLehmer( BigInt(13) )"
   ]
  },
  {
   "cell_type": "code",
   "execution_count": 11,
   "metadata": {},
   "outputs": [
    {
     "data": {
      "text/plain": [
       "F (generic function with 1 method)"
      ]
     },
     "execution_count": 11,
     "metadata": {},
     "output_type": "execute_result"
    }
   ],
   "source": [
    "F(k) = BigInt(2)^(2^k)+1"
   ]
  },
  {
   "cell_type": "code",
   "execution_count": 4,
   "metadata": {},
   "outputs": [
    {
     "data": {
      "text/plain": [
       "1-element Array{Int64,1}:\n",
       " 10"
      ]
     },
     "execution_count": 4,
     "metadata": {},
     "output_type": "execute_result"
    }
   ],
   "source": [
    "k=5 \n",
    "m = 2^(2^(k-1)-(k+1))+1\n",
    "[ r for r in(1:m) if F(k) % (1+r*2^(k+1)) == 0]"
   ]
  },
  {
   "cell_type": "code",
   "execution_count": 5,
   "metadata": {},
   "outputs": [
    {
     "data": {
      "text/plain": [
       "0"
      ]
     },
     "execution_count": 5,
     "metadata": {},
     "output_type": "execute_result"
    }
   ],
   "source": [
    "F(5) % (1+10*2^(k+1))"
   ]
  },
  {
   "cell_type": "code",
   "execution_count": 6,
   "metadata": {},
   "outputs": [
    {
     "data": {
      "text/plain": [
       "536870911"
      ]
     },
     "execution_count": 6,
     "metadata": {},
     "output_type": "execute_result"
    }
   ],
   "source": [
    "M(p) = 2^p - 1 \n",
    "M(29)"
   ]
  },
  {
   "cell_type": "code",
   "execution_count": 7,
   "metadata": {},
   "outputs": [
    {
     "data": {
      "text/plain": [
       "5-element Array{Int64,1}:\n",
       "    233\n",
       "   1103\n",
       "   2089\n",
       " 256999\n",
       " 486737"
      ]
     },
     "execution_count": 7,
     "metadata": {},
     "output_type": "execute_result"
    }
   ],
   "source": [
    "p = 29\n",
    "#m = Int(floor(2^(p/2)/(2*p)))\n",
    "m = Int(floor(2^(p/2)/2))\n",
    "[ 1+2*r*p for r in(1:m) if M(p) % (1+2*r*p) == 0]"
   ]
  },
  {
   "cell_type": "code",
   "execution_count": 168,
   "metadata": {},
   "outputs": [
    {
     "data": {
      "text/plain": [
       "536870911"
      ]
     },
     "execution_count": 168,
     "metadata": {},
     "output_type": "execute_result"
    }
   ],
   "source": [
    "233*1103*2089"
   ]
  },
  {
   "cell_type": "code",
   "execution_count": 134,
   "metadata": {},
   "outputs": [
    {
     "data": {
      "text/plain": [
       "3.0"
      ]
     },
     "execution_count": 134,
     "metadata": {},
     "output_type": "execute_result"
    }
   ],
   "source": [
    "m"
   ]
  },
  {
   "cell_type": "code",
   "execution_count": 17,
   "metadata": {},
   "outputs": [
    {
     "data": {
      "text/plain": [
       "1-element Array{Int64,1}:\n",
       " 12"
      ]
     },
     "execution_count": 17,
     "metadata": {},
     "output_type": "execute_result"
    }
   ],
   "source": [
    "[ k for k in (1:20) if F(k) % (1+7*2^14) == 0 ]"
   ]
  },
  {
   "cell_type": "code",
   "execution_count": 14,
   "metadata": {},
   "outputs": [
    {
     "data": {
      "text/plain": [
       "0"
      ]
     },
     "execution_count": 14,
     "metadata": {},
     "output_type": "execute_result"
    }
   ],
   "source": [
    "F(12) % (1+7*2^14)"
   ]
  },
  {
   "cell_type": "code",
   "execution_count": null,
   "metadata": {},
   "outputs": [],
   "source": []
  }
 ],
 "metadata": {
  "kernelspec": {
   "display_name": "Julia 1.4.1",
   "language": "julia",
   "name": "julia-1.4"
  },
  "language_info": {
   "file_extension": ".jl",
   "mimetype": "application/julia",
   "name": "julia",
   "version": "1.4.1"
  }
 },
 "nbformat": 4,
 "nbformat_minor": 4
}
