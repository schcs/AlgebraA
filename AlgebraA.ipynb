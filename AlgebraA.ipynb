{
 "cells": [
  {
   "cell_type": "code",
   "execution_count": 150,
   "metadata": {},
   "outputs": [],
   "source": [
    "def ExpModN( a, e, n ):\n",
    "    A = a; P = 1; E = e;\n",
    "    \n",
    "    while E != 0:\n",
    "    \n",
    "        if E % 2 == 1: \n",
    "            P = (A*P) % n\n",
    "            E = (E-1)//2\n",
    "        else:\n",
    "            E = E//2\n",
    "        A = A*A % n\n",
    "    return P\n"
   ]
  },
  {
   "cell_type": "code",
   "execution_count": 151,
   "metadata": {},
   "outputs": [],
   "source": [
    "def IsPseudoPrimeInBase( n, b ):\n",
    "    return ExpModN( b, n-1, n ) == 1\n",
    "\n",
    "def IsPseudoPrime( n ):\n",
    "    for b in range( 2, n-1 ):\n",
    "        if not IsPseudoPrimeInBase( n, b ):\n",
    "            return False\n",
    "    return True;"
   ]
  },
  {
   "cell_type": "code",
   "execution_count": 138,
   "metadata": {},
   "outputs": [],
   "source": [
    "from sympy import log \n",
    "import random\n",
    "\n",
    "def TesteFermat( n ):\n",
    "    \n",
    "    d = int(log( n ))+1\n",
    "    for i in range( 1, d ):\n",
    "        b = random.randint( 2, n-2 )\n",
    "        if not IsPseudoPrimeInBase( n, b ):\n",
    "            return False\n",
    "    return True"
   ]
  },
  {
   "cell_type": "code",
   "execution_count": 147,
   "metadata": {},
   "outputs": [
    {
     "name": "stdout",
     "output_type": "stream",
     "text": [
      "91\n",
      "2821\n"
     ]
    }
   ],
   "source": [
    "for n in range( 4, 10000 ):\n",
    "    if not isprime( n ) and TesteFermat( n ):\n",
    "        print( n )"
   ]
  },
  {
   "cell_type": "code",
   "execution_count": 148,
   "metadata": {},
   "outputs": [
    {
     "data": {
      "text/plain": [
       "{7: 1, 13: 1, 31: 1}"
      ]
     },
     "execution_count": 148,
     "metadata": {},
     "output_type": "execute_result"
    }
   ],
   "source": [
    "factorint( 91 )"
   ]
  }
 ],
 "metadata": {
  "kernelspec": {
   "display_name": "Python 3",
   "language": "python",
   "name": "python3"
  },
  "language_info": {
   "codemirror_mode": {
    "name": "ipython",
    "version": 3
   },
   "file_extension": ".py",
   "mimetype": "text/x-python",
   "name": "python",
   "nbconvert_exporter": "python",
   "pygments_lexer": "ipython3",
   "version": "3.6.9"
  }
 },
 "nbformat": 4,
 "nbformat_minor": 2
}
