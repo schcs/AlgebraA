{
 "cells": [
  {
   "cell_type": "code",
   "execution_count": 23,
   "metadata": {},
   "outputs": [],
   "source": [
    "from sympy import factorint, isprime"
   ]
  },
  {
   "cell_type": "code",
   "execution_count": 68,
   "metadata": {},
   "outputs": [],
   "source": [
    "def MDC_recursivo( a, b ):\n",
    "    \n",
    "    print( \"a =\", a, \"e b =\", b )\n",
    "    \n",
    "    assert a >= 0 and b >= 0 # queremos que a e b sejam não negativos\n",
    "    assert a != 0 or b != 0  # queremos que ou a ou b seja não nulo\n",
    "    \n",
    "    if b == 0:\n",
    "        return a\n",
    "    else:\n",
    "        return MDC_recursivo( b, a % b ) # a % b é o resto de a por b\n",
    "        "
   ]
  },
  {
   "cell_type": "code",
   "execution_count": 69,
   "metadata": {},
   "outputs": [
    {
     "name": "stdout",
     "output_type": "stream",
     "text": [
      "a = 81 e b = 55\n",
      "a = 55 e b = 26\n",
      "a = 26 e b = 3\n",
      "a = 3 e b = 2\n",
      "a = 2 e b = 1\n",
      "a = 1 e b = 0\n"
     ]
    },
    {
     "data": {
      "text/plain": [
       "1"
      ]
     },
     "execution_count": 69,
     "metadata": {},
     "output_type": "execute_result"
    }
   ],
   "source": [
    "MDC_recursivo( 81,55 )"
   ]
  },
  {
   "cell_type": "code",
   "execution_count": 3,
   "metadata": {},
   "outputs": [],
   "source": [
    "def MDC(a,b):\n",
    "\n",
    "    assert a >= 0 and b >= 0\n",
    "    assert a != 0 or b != 0 \n",
    "    \n",
    "    while b != 0:\n",
    "        a, b = b, a % b  # trocamos a e b por b e o resto de a por b\n",
    "        print( \"a é \", a, \"e b é \", b )\n",
    "\n",
    "    return a"
   ]
  },
  {
   "cell_type": "code",
   "execution_count": 9,
   "metadata": {},
   "outputs": [
    {
     "name": "stdout",
     "output_type": "stream",
     "text": [
      "a é  20 e b é  13\n",
      "a é  13 e b é  7\n",
      "a é  7 e b é  6\n",
      "a é  6 e b é  1\n",
      "a é  1 e b é  0\n"
     ]
    },
    {
     "data": {
      "text/plain": [
       "1"
      ]
     },
     "execution_count": 9,
     "metadata": {},
     "output_type": "execute_result"
    }
   ],
   "source": [
    "MDC(33,20)"
   ]
  },
  {
   "cell_type": "code",
   "execution_count": 20,
   "metadata": {},
   "outputs": [
    {
     "data": {
      "text/plain": [
       "1"
      ]
     },
     "execution_count": 20,
     "metadata": {},
     "output_type": "execute_result"
    }
   ],
   "source": [
    "a = 3256296592635965937652199120792569232562365835263726356386836326921192197952679265732638753\n",
    "b = 6296419619267467227692469238420947148702720472047107109170101810489473492714947147847914719987\n",
    "MDC(a,b)"
   ]
  },
  {
   "cell_type": "code",
   "execution_count": 1,
   "metadata": {},
   "outputs": [],
   "source": [
    "# algoritmo extendido de Euclides\n",
    "def XMDC(a,b):\n",
    "    \n",
    "    assert a >= 0 and b >= 0\n",
    "    assert a != 0 or b != 0 \n",
    "    \n",
    "    prevu, u = 1, 0; prevv, v = 0, 1 # r_{-1} = a = 1*a + 0*b, r_0 = b = 0*a + 1*b\n",
    "    \n",
    "    while b != 0:\n",
    "        q = a//b\n",
    "        u, prevu = prevu - q*u, u\n",
    "        v, prevv = prevv - q*v, v\n",
    "        a, b = b, a % b\n",
    "   \n",
    "    return a, prevu, prevv"
   ]
  },
  {
   "cell_type": "code",
   "execution_count": 19,
   "metadata": {},
   "outputs": [
    {
     "data": {
      "text/plain": [
       "True"
      ]
     },
     "execution_count": 19,
     "metadata": {},
     "output_type": "execute_result"
    }
   ],
   "source": [
    "d, u, v = XMDC( 13, 8 )\n",
    "d == u*13+v*8"
   ]
  },
  {
   "cell_type": "code",
   "execution_count": 22,
   "metadata": {},
   "outputs": [
    {
     "data": {
      "text/plain": [
       "1"
      ]
     },
     "execution_count": 22,
     "metadata": {},
     "output_type": "execute_result"
    }
   ],
   "source": [
    "d, u, v = XMDC( a, b )\n",
    "u*a + v*b"
   ]
  },
  {
   "cell_type": "code",
   "execution_count": 2,
   "metadata": {},
   "outputs": [
    {
     "data": {
      "text/plain": [
       "(1, 2, -3)"
      ]
     },
     "execution_count": 2,
     "metadata": {},
     "output_type": "execute_result"
    }
   ],
   "source": [
    "XMDC(8,5)"
   ]
  },
  {
   "cell_type": "code",
   "execution_count": null,
   "metadata": {},
   "outputs": [],
   "source": []
  }
 ],
 "metadata": {
  "kernelspec": {
   "display_name": "Python 3",
   "language": "python",
   "name": "python3"
  },
  "language_info": {
   "codemirror_mode": {
    "name": "ipython",
    "version": 3
   },
   "file_extension": ".py",
   "mimetype": "text/x-python",
   "name": "python",
   "nbconvert_exporter": "python",
   "pygments_lexer": "ipython3",
   "version": "3.8.5"
  }
 },
 "nbformat": 4,
 "nbformat_minor": 4
}
