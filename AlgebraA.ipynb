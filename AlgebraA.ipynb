{
 "cells": [
  {
   "cell_type": "code",
   "execution_count": 2,
   "metadata": {},
   "outputs": [],
   "source": [
    "from sympy import log, isprime, factorint, totient\n",
    "import random\n",
    "from math import sqrt"
   ]
  },
  {
   "cell_type": "code",
   "execution_count": 3,
   "metadata": {},
   "outputs": [],
   "source": [
    "def ExpModN( a, e, n ):\n",
    "    A = a; P = 1; E = e;\n",
    "    \n",
    "    while E != 0:\n",
    "        \n",
    "        D = E % 2 # the last binary digit of E         \n",
    "        if D == 1: \n",
    "            P = (A*P) % n\n",
    "            E = (E-1)//2\n",
    "        else:\n",
    "            E = E//2\n",
    "        A = A*A % n\n",
    "    return P\n"
   ]
  },
  {
   "cell_type": "code",
   "execution_count": 4,
   "metadata": {},
   "outputs": [],
   "source": [
    "def IsPseudoPrimeInBase( n, b ):\n",
    "    return ExpModN( b, n-1, n ) == 1\n"
   ]
  },
  {
   "cell_type": "code",
   "execution_count": 5,
   "metadata": {},
   "outputs": [],
   "source": [
    "def TesteFermat( n ):\n",
    "    \n",
    "    d = int(log( n ))+1\n",
    "    for b in range( 2, d ):\n",
    "        if not IsPseudoPrimeInBase( n, b ):\n",
    "            return \"COMPOSTO\"\n",
    "    return \"TALVEZ PRIMO\""
   ]
  },
  {
   "cell_type": "code",
   "execution_count": 6,
   "metadata": {},
   "outputs": [],
   "source": [
    "def TesteFermatRandom( n ):\n",
    "    \n",
    "    d = int(log( n ))+1\n",
    "    for i in range( 1, d ):\n",
    "        b = random.randint( 2, n-2 )\n",
    "        if not IsPseudoPrimeInBase( n, b ):\n",
    "            return \"COMPOSTO\"\n",
    "    return \"TALVEZ PRIMO\""
   ]
  },
  {
   "cell_type": "code",
   "execution_count": 7,
   "metadata": {},
   "outputs": [],
   "source": [
    "def TesteMiller( n, b ):\n",
    "    \n",
    "    q = n-1\n",
    "    k = 0\n",
    "    while q % 2 == 0:\n",
    "        q = q//2\n",
    "        k = k+1\n",
    "    \n",
    "    r = ExpModN( b, q, n )\n",
    "    if r == 1:\n",
    "        return \"TALVEZ PRIMO\"\n",
    "    \n",
    "    \n",
    "    for i in range( 0, k ):\n",
    "        if r == n-1:\n",
    "            return \"TALVEZ PRIMO\"\n",
    "        r = r*r % n\n",
    "        \n",
    "    return \"COMPOSTO\"        "
   ]
  },
  {
   "cell_type": "code",
   "execution_count": 8,
   "metadata": {},
   "outputs": [],
   "source": [
    "def TesteMillerBach( n ):\n",
    "        \n",
    "    k = min(n-1,int(2*log( n )**2))\n",
    "    for b in range( 2, k+1 ):\n",
    "        if TesteMiller( n, b ) == \"COMPOSTO\":\n",
    "            print( b )\n",
    "            return \"COMPOSTO\"\n",
    "        \n",
    "    return \"PRIMO (HGR)\""
   ]
  },
  {
   "cell_type": "code",
   "execution_count": 9,
   "metadata": {},
   "outputs": [],
   "source": [
    "def TesteMillerRabin( n ):\n",
    "        \n",
    "    k = int(log( n )) + 1\n",
    "    for i in range( 1, k+1 ):\n",
    "        b = random.randint( 2, n-2 )\n",
    "        if TesteMiller( n, b ) == \"COMPOSTO\":\n",
    "            return \"COMPOSTO\"\n",
    "        \n",
    "    return \"TALVEZ PRIMO\""
   ]
  },
  {
   "cell_type": "code",
   "execution_count": 10,
   "metadata": {},
   "outputs": [],
   "source": [
    "def TesteLucasLehmer( p ):\n",
    "    m = 2**p-1\n",
    "    s = 4\n",
    "    \n",
    "    for i in range(1,p-1):\n",
    "        s = (s*s-2) % m\n",
    "        \n",
    "    if s == 0 :\n",
    "        return \"PRIMO\"\n",
    "    else:\n",
    "        return \"COMPOSTO\""
   ]
  },
  {
   "cell_type": "code",
   "execution_count": 13,
   "metadata": {},
   "outputs": [],
   "source": [
    "def XMDC(a,b):\n",
    "    prevx, x = 1, 0; prevy, y = 0, 1\n",
    "    while b:\n",
    "        q = a//b\n",
    "        x, prevx = prevx - q*x, x\n",
    "        y, prevy = prevy - q*y, y\n",
    "        a, b = b, a % b\n",
    "    return a, prevx, prevy"
   ]
  },
  {
   "cell_type": "code",
   "execution_count": 22,
   "metadata": {},
   "outputs": [
    {
     "name": "stdout",
     "output_type": "stream",
     "text": [
      "PRIMO\n",
      "PRIMO\n",
      "3\n",
      "22\n",
      "14\n",
      "12\n",
      "21\n",
      "3\n",
      "6\n",
      "7\n",
      "15\n",
      "4\n",
      "1\n"
     ]
    }
   ],
   "source": [
    "print( TesteLucasLehmer( 521 )) \n",
    "print( TesteLucasLehmer( 607 )) \n",
    "p = 2**607-1; q = 2**521-1\n",
    "n = p*q\n",
    "phin = (p-1)*(q-1)\n",
    "while True:\n",
    "    e = random.randint( 2, n-2 )\n",
    "    d, f, _ = XMDC( e, phin )\n",
    "    if d == 1:\n",
    "        break        \n",
    "f = f % phin"
   ]
  },
  {
   "cell_type": "code",
   "execution_count": 18,
   "metadata": {},
   "outputs": [],
   "source": [
    "def C( b, e, n ):\n",
    "    return ExpModN( b, e, n )\n",
    "\n",
    "def D( c, d, n ):\n",
    "    return ExpModN( c, d, n )"
   ]
  },
  {
   "cell_type": "code",
   "execution_count": 19,
   "metadata": {},
   "outputs": [
    {
     "data": {
      "text/plain": [
       "1024687163328923191424543155884285230944219699354728030727242790740152782782941798865225681302461082888827369332965066944081633509452641813675570480602833098809680750889634943211533144027846387356526884275619397278131518331337017388639634719048683867073724102068317500555960175995636713728091173598230047968913138257926061001307239238262818"
      ]
     },
     "execution_count": 19,
     "metadata": {},
     "output_type": "execute_result"
    }
   ],
   "source": [
    "b = random.randint( 1, n-1 )\n",
    "b"
   ]
  },
  {
   "cell_type": "code",
   "execution_count": 20,
   "metadata": {},
   "outputs": [
    {
     "ename": "TypeError",
     "evalue": "C() missing 1 required positional argument: 'n'",
     "output_type": "error",
     "traceback": [
      "\u001b[0;31m---------------------------------------------------------------------------\u001b[0m",
      "\u001b[0;31mTypeError\u001b[0m                                 Traceback (most recent call last)",
      "\u001b[0;32m<ipython-input-20-049c11283edd>\u001b[0m in \u001b[0;36m<module>\u001b[0;34m\u001b[0m\n\u001b[0;32m----> 1\u001b[0;31m \u001b[0mc\u001b[0m \u001b[0;34m=\u001b[0m \u001b[0mC\u001b[0m\u001b[0;34m(\u001b[0m \u001b[0mb\u001b[0m\u001b[0;34m,\u001b[0m \u001b[0mn\u001b[0m \u001b[0;34m)\u001b[0m\u001b[0;34m\u001b[0m\u001b[0;34m\u001b[0m\u001b[0m\n\u001b[0m\u001b[1;32m      2\u001b[0m \u001b[0mc\u001b[0m\u001b[0;34m\u001b[0m\u001b[0;34m\u001b[0m\u001b[0m\n",
      "\u001b[0;31mTypeError\u001b[0m: C() missing 1 required positional argument: 'n'"
     ]
    }
   ],
   "source": [
    "c = C( b, n )\n",
    "c"
   ]
  },
  {
   "cell_type": "code",
   "execution_count": null,
   "metadata": {},
   "outputs": [],
   "source": [
    "b1 = D( c, n )\n",
    "b1"
   ]
  },
  {
   "cell_type": "code",
   "execution_count": null,
   "metadata": {},
   "outputs": [],
   "source": [
    "b == b1"
   ]
  },
  {
   "cell_type": "code",
   "execution_count": null,
   "metadata": {},
   "outputs": [],
   "source": [
    "# computação do Bob\n",
    "pB = 5515603291713093142736262649442618555794023957659\n",
    "qB = 2088444049798106041633987184860343478597486498709\n",
    "nB = pB*qB\n",
    "phiB = (pB-1)*(qB-1)\n",
    "while True:\n",
    "    eB = random.randint( 2, nB-2 )\n",
    "    mB, dB, _ = XMDC( eB, phiB )\n",
    "    if mB == 1:\n",
    "        break        \n",
    "dB = dB % phiB"
   ]
  },
  {
   "cell_type": "code",
   "execution_count": null,
   "metadata": {},
   "outputs": [],
   "source": [
    "eB*dB % phiB"
   ]
  },
  {
   "cell_type": "code",
   "execution_count": null,
   "metadata": {},
   "outputs": [],
   "source": [
    "#Computação da Alice \n",
    "pA = 1660543376616936115420314042780836596993387120411\n",
    "qA = 26926738674660569753404471116644528322286058532277\n",
    "nA = pA*qA\n",
    "phiA = (pA-1)*(qA-1)\n",
    "while True:\n",
    "    eA = random.randint( 2, nA-2 )\n",
    "    mA, dA, _ = XMDC( eA, phiA )\n",
    "    if mA == 1:\n",
    "        break        \n",
    "dA = dA % phiA"
   ]
  },
  {
   "cell_type": "code",
   "execution_count": null,
   "metadata": {},
   "outputs": [],
   "source": [
    "eA*dA % phiA"
   ]
  },
  {
   "cell_type": "code",
   "execution_count": null,
   "metadata": {},
   "outputs": [],
   "source": [
    "# Codificação da mensagem da Alice\n",
    "b = random.randint( 1, min( nA-1, nB-1 ))\n",
    "c = ExpModN( b, eB, nB )\n",
    "a = ExpModN( b, dA, nA )"
   ]
  },
  {
   "cell_type": "code",
   "execution_count": null,
   "metadata": {},
   "outputs": [],
   "source": [
    "(c,a)"
   ]
  },
  {
   "cell_type": "code",
   "execution_count": null,
   "metadata": {},
   "outputs": [],
   "source": [
    "# Descodificação da mensagem\n",
    "bb = ExpModN( c, dB, nB )\n",
    "aa = ExpModN( a, eA, nA )"
   ]
  },
  {
   "cell_type": "code",
   "execution_count": null,
   "metadata": {},
   "outputs": [],
   "source": [
    "(bb,aa)"
   ]
  },
  {
   "cell_type": "code",
   "execution_count": null,
   "metadata": {},
   "outputs": [],
   "source": [
    "# Troca de chaves de Diffie-Hellman\n",
    "# computação comum\n",
    "p = 38450217703680880490141016889392805287264761398712883307976597757938978857702527567193907088613428174327748769779175270772048436148553483274190345656562325735211741290766697605370338848672044225288837\n",
    "g = random.randint( 2, p-1 )"
   ]
  },
  {
   "cell_type": "code",
   "execution_count": null,
   "metadata": {},
   "outputs": [],
   "source": [
    "g"
   ]
  },
  {
   "cell_type": "code",
   "execution_count": null,
   "metadata": {},
   "outputs": [],
   "source": [
    "# Computação da Alice\n",
    "a = random.randint( 2, p-1 )\n",
    "x = ExpModN( g, a, p )"
   ]
  },
  {
   "cell_type": "code",
   "execution_count": null,
   "metadata": {},
   "outputs": [],
   "source": [
    "x"
   ]
  },
  {
   "cell_type": "code",
   "execution_count": null,
   "metadata": {},
   "outputs": [],
   "source": [
    "# Computação do Bob\n",
    "b = random.randint( 2, p-1 )\n",
    "y = ExpModN( g, b, p )"
   ]
  },
  {
   "cell_type": "code",
   "execution_count": null,
   "metadata": {},
   "outputs": [],
   "source": [
    "y"
   ]
  },
  {
   "cell_type": "code",
   "execution_count": null,
   "metadata": {},
   "outputs": [],
   "source": [
    "# Computação da Alice \n",
    "ExpModN( y, a, p )"
   ]
  },
  {
   "cell_type": "code",
   "execution_count": null,
   "metadata": {},
   "outputs": [],
   "source": [
    "# Computação do Bob \n",
    "ExpModN( x, b, p )"
   ]
  },
  {
   "cell_type": "code",
   "execution_count": null,
   "metadata": {},
   "outputs": [],
   "source": [
    "import random \n",
    "random.randint( 1, 10 )"
   ]
  },
  {
   "cell_type": "code",
   "execution_count": null,
   "metadata": {},
   "outputs": [],
   "source": [
    "n = 2**8192-1"
   ]
  },
  {
   "cell_type": "code",
   "execution_count": null,
   "metadata": {},
   "outputs": [],
   "source": [
    "ExpModN( 3, n-1, n )"
   ]
  },
  {
   "cell_type": "code",
   "execution_count": null,
   "metadata": {},
   "outputs": [],
   "source": [
    "p = 2**2203-1\n",
    "q = 2**2281-1\n",
    "n = p*q"
   ]
  },
  {
   "cell_type": "code",
   "execution_count": null,
   "metadata": {},
   "outputs": [],
   "source": [
    "%time isprime( n )"
   ]
  },
  {
   "cell_type": "code",
   "execution_count": null,
   "metadata": {},
   "outputs": [],
   "source": []
  }
 ],
 "metadata": {
  "kernelspec": {
   "display_name": "Python 3",
   "language": "python",
   "name": "python3"
  },
  "language_info": {
   "codemirror_mode": {
    "name": "ipython",
    "version": 3
   },
   "file_extension": ".py",
   "mimetype": "text/x-python",
   "name": "python",
   "nbconvert_exporter": "python",
   "pygments_lexer": "ipython3",
   "version": "3.8.5"
  }
 },
 "nbformat": 4,
 "nbformat_minor": 2
}
