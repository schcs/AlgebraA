{
 "cells": [
  {
   "cell_type": "code",
   "execution_count": 74,
   "metadata": {},
   "outputs": [],
   "source": [
    "from sympy import log, isprime, factorint\n",
    "import random"
   ]
  },
  {
   "cell_type": "code",
   "execution_count": 75,
   "metadata": {},
   "outputs": [],
   "source": [
    "def ExpModN( a, e, n ):\n",
    "    A = a; P = 1; E = e;\n",
    "    \n",
    "    while E != 0:\n",
    "        \n",
    "        D = E % 2 # the last binary digit of E         \n",
    "        if D == 1: \n",
    "            P = (A*P) % n\n",
    "            E = (E-1)//2\n",
    "        else:\n",
    "            E = E//2\n",
    "        A = A*A % n\n",
    "    return P\n"
   ]
  },
  {
   "cell_type": "code",
   "execution_count": 76,
   "metadata": {},
   "outputs": [],
   "source": [
    "def IsPseudoPrimeInBase( n, b ):\n",
    "    return ExpModN( b, n-1, n ) == 1\n"
   ]
  },
  {
   "cell_type": "code",
   "execution_count": 77,
   "metadata": {},
   "outputs": [],
   "source": [
    "def TesteFermat( n ):\n",
    "    \n",
    "    d = int(log( n ))+1\n",
    "    for b in range( 2, d ):\n",
    "        if not IsPseudoPrimeInBase( n, b ):\n",
    "            return \"COMPOSTO\"\n",
    "    return \"TALVEZ PRIMO\""
   ]
  },
  {
   "cell_type": "code",
   "execution_count": 78,
   "metadata": {},
   "outputs": [],
   "source": [
    "def TesteFermatRandom( n ):\n",
    "    \n",
    "    d = int(log( n ))+1\n",
    "    for i in range( 1, d ):\n",
    "        b = random.randint( 2, n-2 )\n",
    "        if not IsPseudoPrimeInBase( n, b ):\n",
    "            return \"COMPOSTO\"\n",
    "    return \"TALVEZ PRIMO\""
   ]
  },
  {
   "cell_type": "code",
   "execution_count": 80,
   "metadata": {},
   "outputs": [],
   "source": [
    "def TesteMiller( n, b ):\n",
    "    \n",
    "    q = n-1\n",
    "    k = 0\n",
    "    while q % 2 == 0:\n",
    "        q = q//2\n",
    "        k = k+1\n",
    "    \n",
    "    r = ExpModN( b, q, n )\n",
    "    if r == 1:\n",
    "        return \"TALVEZ PRIMO\"\n",
    "    \n",
    "    \n",
    "    for i in range( 0, k ):\n",
    "        if r == n-1:\n",
    "            return \"TALVEZ PRIMO\"\n",
    "        r = r*r % n\n",
    "        \n",
    "    return \"COMPOSTO\"        "
   ]
  },
  {
   "cell_type": "code",
   "execution_count": null,
   "metadata": {},
   "outputs": [],
   "source": []
  },
  {
   "cell_type": "code",
   "execution_count": 152,
   "metadata": {},
   "outputs": [],
   "source": [
    "def TesteMillerBach( n ):\n",
    "        \n",
    "    k = min(n-1,int(2*log( n )**2))\n",
    "    for b in range( 2, k+1 ):\n",
    "        if TesteMiller( n, b ) == \"COMPOSTO\":\n",
    "            print( b )\n",
    "            return \"COMPOSTO\"\n",
    "        \n",
    "    return \"PRIMO (HGR)\""
   ]
  },
  {
   "cell_type": "code",
   "execution_count": 115,
   "metadata": {},
   "outputs": [],
   "source": [
    "def TesteMillerRabin( n ):\n",
    "        \n",
    "    k = int(log( n )) + 1\n",
    "    for i in range( 1, k+1 ):\n",
    "        b = random.randint( 2, n-2 )\n",
    "        if TesteMiller( n, b ) == \"COMPOSTO\":\n",
    "            return \"COMPOSTO\"\n",
    "        \n",
    "    return \"TALVEZ PRIMO\""
   ]
  },
  {
   "cell_type": "code",
   "execution_count": 116,
   "metadata": {},
   "outputs": [
    {
     "data": {
      "text/plain": [
       "{151: 1, 751: 1, 28351: 1}"
      ]
     },
     "execution_count": 116,
     "metadata": {},
     "output_type": "execute_result"
    }
   ],
   "source": [
    "n1 = 3215031751\n",
    "factorint( n1 )"
   ]
  },
  {
   "cell_type": "code",
   "execution_count": 141,
   "metadata": {},
   "outputs": [
    {
     "data": {
      "text/plain": [
       "'COMPOSTO'"
      ]
     },
     "execution_count": 141,
     "metadata": {},
     "output_type": "execute_result"
    }
   ],
   "source": [
    "TesteFermatRandom( n1 )"
   ]
  },
  {
   "cell_type": "code",
   "execution_count": 145,
   "metadata": {},
   "outputs": [
    {
     "data": {
      "text/plain": [
       "'COMPOSTO'"
      ]
     },
     "execution_count": 145,
     "metadata": {},
     "output_type": "execute_result"
    }
   ],
   "source": [
    "TesteMiller( n1, 11 )"
   ]
  },
  {
   "cell_type": "code",
   "execution_count": 118,
   "metadata": {},
   "outputs": [
    {
     "data": {
      "text/plain": [
       "2887148238050771212671429597130393991977609459279722700926516024197432303799152733116328983144639225941977803110929349655578418949441740933805615113979999421542416933972905423711002751042080134966731755152859226962916775325475044445856101949404200039904432116776619949629539250452698719329070373564032273701278453899126120309244841494728976885406024976768122077071687938121709811322297802059565867"
      ]
     },
     "execution_count": 118,
     "metadata": {},
     "output_type": "execute_result"
    }
   ],
   "source": [
    "p = 29674495668685510550154174642905332730771991799853043350995075531276838753171770199594238596428121188033664754218345562493168782883\n",
    "n = p*(313*(p-1)+1)*(353*(p-1)+1)\n",
    "n"
   ]
  },
  {
   "cell_type": "code",
   "execution_count": 147,
   "metadata": {},
   "outputs": [
    {
     "data": {
      "text/plain": [
       "'TALVEZ PRIMO'"
      ]
     },
     "execution_count": 147,
     "metadata": {},
     "output_type": "execute_result"
    }
   ],
   "source": [
    "TesteFermatRandom( n )"
   ]
  },
  {
   "cell_type": "code",
   "execution_count": 153,
   "metadata": {},
   "outputs": [
    {
     "name": "stdout",
     "output_type": "stream",
     "text": [
      "307\n"
     ]
    },
    {
     "data": {
      "text/plain": [
       "'COMPOSTO'"
      ]
     },
     "execution_count": 153,
     "metadata": {},
     "output_type": "execute_result"
    }
   ],
   "source": [
    "TesteMillerBach( n )"
   ]
  },
  {
   "cell_type": "code",
   "execution_count": null,
   "metadata": {},
   "outputs": [],
   "source": []
  }
 ],
 "metadata": {
  "kernelspec": {
   "display_name": "Python 3",
   "language": "python",
   "name": "python3"
  },
  "language_info": {
   "codemirror_mode": {
    "name": "ipython",
    "version": 3
   },
   "file_extension": ".py",
   "mimetype": "text/x-python",
   "name": "python",
   "nbconvert_exporter": "python",
   "pygments_lexer": "ipython3",
   "version": "3.6.9"
  }
 },
 "nbformat": 4,
 "nbformat_minor": 2
}
