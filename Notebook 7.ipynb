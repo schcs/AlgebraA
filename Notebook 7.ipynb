{
 "cells": [
  {
   "cell_type": "code",
   "execution_count": 65,
   "metadata": {},
   "outputs": [],
   "source": [
    "# algoritmo extendido de Euclides\n",
    "def XMDC(a,b):\n",
    "\n",
    "    assert a != 0 or b != 0 \n",
    "\n",
    "    # nós trabalhamos com números positivos, mas aceitamos argumentos negativos\n",
    "    sign_a, sign_b = 1, 1\n",
    "    if a < 0: \n",
    "        a, sign_a = -a, -1\n",
    "    \n",
    "    if b < 0: \n",
    "        b, sign_b = -b, -1\n",
    "        \n",
    "    prevu, u = 1, 0; prevv, v = 0, 1 # r_{-1} = a = 1*a + 0*b, r_0 = b = 0*a + 1*b\n",
    "    \n",
    "    while b != 0:\n",
    "        q = a//b\n",
    "        u, prevu = prevu - q*u, u\n",
    "        v, prevv = prevv - q*v, v\n",
    "        a, b = b, a % b\n",
    "   \n",
    "    return a, sign_a*prevu, sign_b*prevv"
   ]
  },
  {
   "cell_type": "code",
   "execution_count": 80,
   "metadata": {},
   "outputs": [],
   "source": [
    "def ResolvaDiofantina( a, b, c ):\n",
    "    \n",
    "    d, x0, y0 = XMDC( a, b )\n",
    "    \n",
    "    # verificar se a equação tem solução\n",
    "    if c % d != 0:\n",
    "        return false\n",
    "    \n",
    "    # obter uma solução particular\n",
    "    # temos x0*a + y0*b = d\n",
    "    x0, y0 = x0*c//d, y0*c//d\n",
    "    \n",
    "    # sol(k) é a solução com parámetro k\n",
    "    sol = lambda k : (x0+k*b//d, y0-k*a//d)\n",
    "    \n",
    "    return sol"
   ]
  },
  {
   "cell_type": "code",
   "execution_count": 81,
   "metadata": {},
   "outputs": [
    {
     "data": {
      "text/plain": [
       "23"
      ]
     },
     "execution_count": 81,
     "metadata": {},
     "output_type": "execute_result"
    }
   ],
   "source": [
    "# dicionário\n",
    "pessoa = { 'nome': \"Diego\", 'sobrenome': \"Santos\", 'idade': 23 }\n",
    "pessoa['idade']"
   ]
  },
  {
   "cell_type": "code",
   "execution_count": 88,
   "metadata": {},
   "outputs": [],
   "source": [
    "cong1 = { 'a': 1, 'mod': 13 } #representa a congruência x = 1 mod 13\n",
    "cong2 = { 'a': 4, 'mod': 15 } # x = 4 mod 15\n",
    "cong3 = { 'a': 8, 'mod': 19 } # x = 8 mod 19"
   ]
  },
  {
   "cell_type": "code",
   "execution_count": 89,
   "metadata": {},
   "outputs": [],
   "source": [
    "def TeoremaChines( cong1, cong2 ):\n",
    "    \n",
    "    a1, a2, n1, n2 = cong1['a'], cong2['a'], cong1['mod'], cong2['mod']\n",
    "    sol = ResolvaDiofantina( n1, -n2, a2-a1 ) # n1*u - n2*v = a2 - a1\n",
    "    u0, _ = sol(0)\n",
    "    x0 = u0*n1+a1\n",
    "    return { 'a': x0 % (n1*n2), 'mod': n1*n2 } # x = (x0 % n1*n2) mod n1*n2\n"
   ]
  },
  {
   "cell_type": "code",
   "execution_count": 90,
   "metadata": {},
   "outputs": [
    {
     "data": {
      "text/plain": [
       "{'a': 25, 'mod': 28}"
      ]
     },
     "execution_count": 90,
     "metadata": {},
     "output_type": "execute_result"
    }
   ],
   "source": [
    "TeoremaChines( { 'a': 4, 'mod': 7 }, { 'a': -3, 'mod': 4 })"
   ]
  },
  {
   "cell_type": "code",
   "execution_count": 91,
   "metadata": {},
   "outputs": [
    {
     "data": {
      "text/plain": [
       "{'a': 79, 'mod': 195}"
      ]
     },
     "execution_count": 91,
     "metadata": {},
     "output_type": "execute_result"
    }
   ],
   "source": [
    "cong12 = TeoremaChines( cong1, cong2 )\n",
    "cong12"
   ]
  },
  {
   "cell_type": "code",
   "execution_count": 92,
   "metadata": {},
   "outputs": [
    {
     "data": {
      "text/plain": [
       "{'a': 274, 'mod': 3705}"
      ]
     },
     "execution_count": 92,
     "metadata": {},
     "output_type": "execute_result"
    }
   ],
   "source": [
    "TeoremaChines( cong12, cong3 )"
   ]
  },
  {
   "cell_type": "code",
   "execution_count": null,
   "metadata": {},
   "outputs": [],
   "source": []
  }
 ],
 "metadata": {
  "kernelspec": {
   "display_name": "Python 3",
   "language": "python",
   "name": "python3"
  },
  "language_info": {
   "codemirror_mode": {
    "name": "ipython",
    "version": 3
   },
   "file_extension": ".py",
   "mimetype": "text/x-python",
   "name": "python",
   "nbconvert_exporter": "python",
   "pygments_lexer": "ipython3",
   "version": "3.8.5"
  }
 },
 "nbformat": 4,
 "nbformat_minor": 4
}
